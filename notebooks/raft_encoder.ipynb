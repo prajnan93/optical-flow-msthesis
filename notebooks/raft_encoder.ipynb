{
 "cells": [
  {
   "cell_type": "code",
   "execution_count": 27,
   "id": "e88ec6f0-4381-45ab-8a97-e3128a4fa98e",
   "metadata": {},
   "outputs": [],
   "source": [
    "import torch\n",
    "import torch.nn as nn\n",
    "\n",
    "from ezflow.encoder import build_encoder\n",
    "from ezflow.engine import get_training_cfg as get_cfg\n",
    "from ezflow.models import build_model"
   ]
  },
  {
   "cell_type": "code",
   "execution_count": 2,
   "id": "1cb29e81-3e37-4e95-a7fb-4a8c713a1a29",
   "metadata": {},
   "outputs": [],
   "source": [
    "from nnflow import BasicEncoderV2"
   ]
  },
  {
   "cell_type": "code",
   "execution_count": 3,
   "id": "565d03ed-59dc-4a51-b443-2821ad533275",
   "metadata": {},
   "outputs": [
    {
     "data": {
      "text/plain": [
       "False"
      ]
     },
     "execution_count": 3,
     "metadata": {},
     "output_type": "execute_result"
    }
   ],
   "source": [
    "raft_cfg = get_cfg(\"../configs/raft/models/raft.yaml\")\n",
    "raft_cfg.ENCODER.FEATURE.INTERMEDIATE_FEATURES"
   ]
  },
  {
   "cell_type": "code",
   "execution_count": 4,
   "id": "c55f8518-c350-4f5d-9162-1635695fba59",
   "metadata": {},
   "outputs": [],
   "source": [
    "raft_cfg.ENCODER.FEATURE.INTERMEDIATE_FEATURES = True"
   ]
  },
  {
   "cell_type": "code",
   "execution_count": 5,
   "id": "a3b4ad2c-109b-42e8-926b-80e5810e6005",
   "metadata": {},
   "outputs": [],
   "source": [
    "raft_encoder = build_encoder(raft_cfg.ENCODER.FEATURE)"
   ]
  },
  {
   "cell_type": "code",
   "execution_count": 6,
   "id": "96765b9a-cb32-4107-8a42-47d4d5ad01aa",
   "metadata": {},
   "outputs": [],
   "source": [
    "features_raft = raft_encoder(torch.randn(1,3,256,256))"
   ]
  },
  {
   "cell_type": "code",
   "execution_count": 7,
   "id": "0955a0ed-249f-4bb6-8db5-18b9a51546ac",
   "metadata": {},
   "outputs": [
    {
     "name": "stdout",
     "output_type": "stream",
     "text": [
      "torch.Size([1, 32, 128, 128])\n",
      "torch.Size([1, 64, 64, 64])\n",
      "torch.Size([1, 96, 32, 32])\n",
      "torch.Size([1, 256, 32, 32])\n"
     ]
    }
   ],
   "source": [
    "for feature in features_raft:\n",
    "    print(feature.shape)"
   ]
  },
  {
   "cell_type": "code",
   "execution_count": 8,
   "id": "54482635-504b-475d-865f-3536e0341d5e",
   "metadata": {},
   "outputs": [
    {
     "data": {
      "text/plain": [
       "[32, 64, 96]"
      ]
     },
     "execution_count": 8,
     "metadata": {},
     "output_type": "execute_result"
    }
   ],
   "source": [
    "raft_cfg.ENCODER.FEATURE.LAYER_CONFIG"
   ]
  },
  {
   "cell_type": "code",
   "execution_count": 80,
   "id": "0cf13af6-f990-485f-846f-a055e0f6e828",
   "metadata": {},
   "outputs": [],
   "source": [
    "def count_params(model):\n",
    "    return str(sum(p.numel() for p in model.parameters() if p.requires_grad) / 1000000) + \"M params\""
   ]
  },
  {
   "cell_type": "markdown",
   "id": "aee0eaf6-d32d-48bd-9f37-61e362d87b56",
   "metadata": {
    "tags": []
   },
   "source": [
    "___\n",
    "### PWCNet"
   ]
  },
  {
   "cell_type": "code",
   "execution_count": 9,
   "id": "aeed260a-de4e-4212-bf03-3b7cb3940b95",
   "metadata": {},
   "outputs": [
    {
     "data": {
      "text/plain": [
       "[16, 32, 64, 96, 128, 196]"
      ]
     },
     "execution_count": 9,
     "metadata": {},
     "output_type": "execute_result"
    }
   ],
   "source": [
    "pwc_cfg = get_cfg(\"../configs/pwcnet/models/pwcnet.yaml\")\n",
    "pwc_cfg.ENCODER.CONFIG"
   ]
  },
  {
   "cell_type": "code",
   "execution_count": 10,
   "id": "0bd81495-b86a-486d-adab-415ab3b32f2e",
   "metadata": {},
   "outputs": [],
   "source": [
    "pwc_encoder = build_encoder(pwc_cfg.ENCODER)"
   ]
  },
  {
   "cell_type": "code",
   "execution_count": 11,
   "id": "639ffe3f-32aa-47d2-9010-414b89545de3",
   "metadata": {},
   "outputs": [],
   "source": [
    "features_pwc = pwc_encoder(torch.randn(1,3,256,256)) "
   ]
  },
  {
   "cell_type": "code",
   "execution_count": 12,
   "id": "acb448e3-67e0-4520-bdcf-3120610d436b",
   "metadata": {},
   "outputs": [
    {
     "name": "stdout",
     "output_type": "stream",
     "text": [
      "torch.Size([1, 16, 128, 128])\n",
      "torch.Size([1, 32, 64, 64])\n",
      "torch.Size([1, 64, 32, 32])\n",
      "torch.Size([1, 96, 16, 16])\n",
      "torch.Size([1, 128, 8, 8])\n",
      "torch.Size([1, 196, 4, 4])\n"
     ]
    }
   ],
   "source": [
    "for feature in features_pwc:\n",
    "    print(feature.shape)"
   ]
  },
  {
   "cell_type": "code",
   "execution_count": 13,
   "id": "61e6db0c-b2a6-4fd2-b026-79405df1531a",
   "metadata": {},
   "outputs": [],
   "source": [
    "pwc_cfg2 = get_cfg(\"../configs/pwcnet/models/pwcnet_raft_encoder.yaml\")"
   ]
  },
  {
   "cell_type": "code",
   "execution_count": 14,
   "id": "695ff459-6a6b-48e0-a89b-daf57d573be0",
   "metadata": {},
   "outputs": [],
   "source": [
    "pwc_raft_encoder = build_encoder(pwc_cfg2.ENCODER)"
   ]
  },
  {
   "cell_type": "code",
   "execution_count": 15,
   "id": "76b37aad-be1e-4c87-983a-84364456a898",
   "metadata": {},
   "outputs": [],
   "source": [
    "features_pwc_raft = pwc_raft_encoder(torch.randn(1,3,256,256)) "
   ]
  },
  {
   "cell_type": "code",
   "execution_count": 16,
   "id": "9a904026-9ff0-4e94-9a1b-eccd1810fee4",
   "metadata": {},
   "outputs": [
    {
     "data": {
      "text/plain": [
       "6"
      ]
     },
     "execution_count": 16,
     "metadata": {},
     "output_type": "execute_result"
    }
   ],
   "source": [
    "len(features_pwc_raft)"
   ]
  },
  {
   "cell_type": "code",
   "execution_count": 17,
   "id": "fce24c6a-4b7f-4a0b-a098-316afcb0818b",
   "metadata": {},
   "outputs": [
    {
     "name": "stdout",
     "output_type": "stream",
     "text": [
      "True   torch.Size([1, 16, 128, 128])\n",
      "True   torch.Size([1, 32, 64, 64])\n",
      "True   torch.Size([1, 64, 32, 32])\n",
      "True   torch.Size([1, 96, 16, 16])\n",
      "True   torch.Size([1, 128, 8, 8])\n",
      "True   torch.Size([1, 196, 4, 4])\n"
     ]
    }
   ],
   "source": [
    "for i in range(len(features_pwc_raft)):\n",
    "    print(features_pwc_raft[i].shape == features_pwc[i].shape, \" \", features_pwc_raft[i].shape)"
   ]
  },
  {
   "cell_type": "code",
   "execution_count": 81,
   "id": "771e2809-9d3e-420a-9e5c-99bd39821817",
   "metadata": {},
   "outputs": [],
   "source": [
    "pwcnet_model_v1 = build_model(\"PWCNet\", cfg_path=\"../configs/pwcnet/models/pwcnet.yaml\", custom_cfg=True)"
   ]
  },
  {
   "cell_type": "code",
   "execution_count": 82,
   "id": "923281fb-3d04-4a64-b159-7b91033a350d",
   "metadata": {},
   "outputs": [],
   "source": [
    "pwcnet_model_v2 = build_model(\"PWCNet\", cfg_path=\"../configs/pwcnet/models/pwcnet_raft_encoder.yaml\", custom_cfg=True)"
   ]
  },
  {
   "cell_type": "code",
   "execution_count": 37,
   "id": "0c3c9e6f-90ba-4c66-9416-8d66ca496f0d",
   "metadata": {},
   "outputs": [
    {
     "name": "stdout",
     "output_type": "stream",
     "text": [
      "\n"
     ]
    }
   ],
   "source": [
    "pwcnet_model_v2.eval()\n",
    "print()"
   ]
  },
  {
   "cell_type": "code",
   "execution_count": 38,
   "id": "b452ec22-9190-401b-87c3-eb130eb64cb6",
   "metadata": {},
   "outputs": [
    {
     "data": {
      "text/plain": [
       "torch.Size([1, 2, 256, 256])"
      ]
     },
     "execution_count": 38,
     "metadata": {},
     "output_type": "execute_result"
    }
   ],
   "source": [
    "flows = pwcnet_model_v2(torch.randn(1,3,256,256), torch.randn(1,3,256,256))\n",
    "flows['flow_upsampled'].shape"
   ]
  },
  {
   "cell_type": "code",
   "execution_count": 87,
   "id": "a740fbc8-c770-4201-a828-862d5f2ec6f5",
   "metadata": {},
   "outputs": [
    {
     "data": {
      "text/plain": [
       "('9.374274M params', '10.05017M params')"
      ]
     },
     "execution_count": 87,
     "metadata": {},
     "output_type": "execute_result"
    }
   ],
   "source": [
    "count_params(pwcnet_model_v1), count_params(pwcnet_model_v2)"
   ]
  },
  {
   "cell_type": "markdown",
   "id": "456b60de-a300-4f71-9c88-433938158180",
   "metadata": {
    "tags": []
   },
   "source": [
    "___\n",
    "\n",
    "### Flownet C"
   ]
  },
  {
   "cell_type": "code",
   "execution_count": 63,
   "id": "4ca67619-f7d9-4995-b138-086ca4ddd889",
   "metadata": {},
   "outputs": [
    {
     "data": {
      "text/plain": [
       "[64, 128, 256]"
      ]
     },
     "execution_count": 63,
     "metadata": {},
     "output_type": "execute_result"
    }
   ],
   "source": [
    "flownetc_cfg = get_cfg(\"../configs/flownet_c/models/flownet_c.yaml\")\n",
    "flownetc_cfg.ENCODER.CONFIG[:3]"
   ]
  },
  {
   "cell_type": "code",
   "execution_count": 64,
   "id": "bce7ccc8-cbe5-45cf-b880-9ab365afc258",
   "metadata": {},
   "outputs": [],
   "source": [
    "flownetc_cfg.ENCODER.CONFIG = flownetc_cfg.ENCODER.CONFIG[:3]"
   ]
  },
  {
   "cell_type": "code",
   "execution_count": 65,
   "id": "fe7f76cd-bd90-41b1-bc1b-f85aa35f61e1",
   "metadata": {},
   "outputs": [],
   "source": [
    "flownetc_encoder = build_encoder(flownetc_cfg.ENCODER)"
   ]
  },
  {
   "cell_type": "code",
   "execution_count": 66,
   "id": "6261f96f-533c-4eb4-b393-8709330a3912",
   "metadata": {},
   "outputs": [],
   "source": [
    "features_flc = flownetc_encoder(torch.randn(1,3,256,256)) "
   ]
  },
  {
   "cell_type": "code",
   "execution_count": 67,
   "id": "61d1c056-8c1a-4147-8098-94445f780a87",
   "metadata": {},
   "outputs": [
    {
     "name": "stdout",
     "output_type": "stream",
     "text": [
      "torch.Size([1, 64, 128, 128])\n",
      "torch.Size([1, 128, 64, 64])\n",
      "torch.Size([1, 256, 32, 32])\n"
     ]
    }
   ],
   "source": [
    "for feature in features_flc:\n",
    "    print(feature.shape)"
   ]
  },
  {
   "cell_type": "code",
   "execution_count": 68,
   "id": "f4994893-6f97-429d-843f-3e3c483f6511",
   "metadata": {},
   "outputs": [],
   "source": [
    "flownetc_cfg2 = get_cfg(\"../configs/flownet_c/models/flownet_c_raft_encoder.yaml\")"
   ]
  },
  {
   "cell_type": "code",
   "execution_count": 69,
   "id": "fac3671f-ed4c-4363-a647-8bada8757957",
   "metadata": {},
   "outputs": [],
   "source": [
    "flowc_raft_encoder = build_encoder(flownetc_cfg2.ENCODER)"
   ]
  },
  {
   "cell_type": "code",
   "execution_count": 70,
   "id": "4384474b-de67-4b37-830b-e34250df6f77",
   "metadata": {},
   "outputs": [],
   "source": [
    "features_flowc_raft = flowc_raft_encoder(torch.randn(1,3,256,256)) "
   ]
  },
  {
   "cell_type": "code",
   "execution_count": 71,
   "id": "c1abf702-a227-4dac-b65b-4968cfb4e98b",
   "metadata": {},
   "outputs": [
    {
     "data": {
      "text/plain": [
       "True"
      ]
     },
     "execution_count": 71,
     "metadata": {},
     "output_type": "execute_result"
    }
   ],
   "source": [
    "len(features_flowc_raft) == len(features_flc)"
   ]
  },
  {
   "cell_type": "code",
   "execution_count": 72,
   "id": "facf315e-c780-4779-bb24-0da25677f498",
   "metadata": {},
   "outputs": [
    {
     "name": "stdout",
     "output_type": "stream",
     "text": [
      "True   torch.Size([1, 64, 128, 128])\n",
      "True   torch.Size([1, 128, 64, 64])\n",
      "True   torch.Size([1, 256, 32, 32])\n"
     ]
    }
   ],
   "source": [
    "for i in range(len(features_flowc_raft)):\n",
    "    print(features_flowc_raft[i].shape == features_flc[i].shape, \" \", features_flowc_raft[i].shape)"
   ]
  },
  {
   "cell_type": "code",
   "execution_count": 85,
   "id": "bba11420-132d-4d7c-aa7e-6c176bd26253",
   "metadata": {},
   "outputs": [],
   "source": [
    "flownetc_model_v1 = build_model(\"FlowNetC\", cfg_path=\"../configs/flownet_c/models/flownet_c.yaml\", custom_cfg=True)"
   ]
  },
  {
   "cell_type": "code",
   "execution_count": 86,
   "id": "1b940cdd-1500-41ff-82b8-1b8a5db12591",
   "metadata": {},
   "outputs": [],
   "source": [
    "flownetc_model_v2 = build_model(\"FlowNetC\", cfg_path=\"../configs/flownet_c/models/flownet_c_raft_encoder.yaml\", custom_cfg=True)"
   ]
  },
  {
   "cell_type": "code",
   "execution_count": 74,
   "id": "fbf3b5a1-da64-4664-a7ac-6d3bede9445f",
   "metadata": {},
   "outputs": [
    {
     "name": "stdout",
     "output_type": "stream",
     "text": [
      "\n"
     ]
    }
   ],
   "source": [
    "flownetc_model_v2.eval()\n",
    "print()"
   ]
  },
  {
   "cell_type": "code",
   "execution_count": 75,
   "id": "b994c3af-d58a-4c3e-9d3e-8ebc0c956ddd",
   "metadata": {},
   "outputs": [
    {
     "data": {
      "text/plain": [
       "torch.Size([1, 2, 256, 256])"
      ]
     },
     "execution_count": 75,
     "metadata": {},
     "output_type": "execute_result"
    }
   ],
   "source": [
    "flows = flownetc_model_v2(torch.randn(1,3,256,256), torch.randn(1,3,256,256))\n",
    "flows['flow_upsampled'].shape"
   ]
  },
  {
   "cell_type": "code",
   "execution_count": 88,
   "id": "32f66068-bad4-41e6-aec6-2def3d74e2e9",
   "metadata": {},
   "outputs": [
    {
     "data": {
      "text/plain": [
       "('39.24424M params', '40.98216M params')"
      ]
     },
     "execution_count": 88,
     "metadata": {},
     "output_type": "execute_result"
    }
   ],
   "source": [
    "count_params(flownetc_model_v1), count_params(flownetc_model_v2)"
   ]
  },
  {
   "cell_type": "markdown",
   "id": "3240a33c-2436-4fef-9f56-6399af5f6461",
   "metadata": {},
   "source": [
    "___"
   ]
  },
  {
   "cell_type": "code",
   "execution_count": 22,
   "id": "09076518-232d-4f13-b9b9-e7155a1709d5",
   "metadata": {},
   "outputs": [],
   "source": []
  },
  {
   "cell_type": "code",
   "execution_count": null,
   "id": "b0fb4d43-6802-41f1-b93a-629fbfeae803",
   "metadata": {},
   "outputs": [],
   "source": []
  }
 ],
 "metadata": {
  "kernelspec": {
   "display_name": "Python 3",
   "language": "python",
   "name": "python3"
  },
  "language_info": {
   "codemirror_mode": {
    "name": "ipython",
    "version": 3
   },
   "file_extension": ".py",
   "mimetype": "text/x-python",
   "name": "python",
   "nbconvert_exporter": "python",
   "pygments_lexer": "ipython3",
   "version": "3.7.10"
  }
 },
 "nbformat": 4,
 "nbformat_minor": 5
}
