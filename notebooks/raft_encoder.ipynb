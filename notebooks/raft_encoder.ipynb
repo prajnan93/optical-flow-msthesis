{
 "cells": [
  {
   "cell_type": "code",
   "execution_count": 1,
   "id": "e88ec6f0-4381-45ab-8a97-e3128a4fa98e",
   "metadata": {},
   "outputs": [],
   "source": [
    "import torch\n",
    "import torch.nn as nn\n",
    "\n",
    "from ezflow.encoder import build_encoder\n",
    "from ezflow.engine import get_training_cfg as get_cfg\n",
    "from ezflow.models import build_model"
   ]
  },
  {
   "cell_type": "code",
   "execution_count": 2,
   "id": "1cb29e81-3e37-4e95-a7fb-4a8c713a1a29",
   "metadata": {},
   "outputs": [],
   "source": [
    "from nnflow import BasicEncoderV2"
   ]
  },
  {
   "cell_type": "code",
   "execution_count": 3,
   "id": "565d03ed-59dc-4a51-b443-2821ad533275",
   "metadata": {},
   "outputs": [
    {
     "data": {
      "text/plain": [
       "False"
      ]
     },
     "execution_count": 3,
     "metadata": {},
     "output_type": "execute_result"
    }
   ],
   "source": [
    "raft_cfg = get_cfg(\"../configs/raft/models/raft.yaml\")\n",
    "raft_cfg.ENCODER.FEATURE.INTERMEDIATE_FEATURES"
   ]
  },
  {
   "cell_type": "code",
   "execution_count": 4,
   "id": "c55f8518-c350-4f5d-9162-1635695fba59",
   "metadata": {},
   "outputs": [],
   "source": [
    "raft_cfg.ENCODER.FEATURE.INTERMEDIATE_FEATURES = True"
   ]
  },
  {
   "cell_type": "code",
   "execution_count": 5,
   "id": "a3b4ad2c-109b-42e8-926b-80e5810e6005",
   "metadata": {},
   "outputs": [],
   "source": [
    "raft_encoder = build_encoder(raft_cfg.ENCODER.FEATURE)"
   ]
  },
  {
   "cell_type": "code",
   "execution_count": 6,
   "id": "96765b9a-cb32-4107-8a42-47d4d5ad01aa",
   "metadata": {},
   "outputs": [],
   "source": [
    "features_raft = raft_encoder(torch.randn(1,3,256,256))"
   ]
  },
  {
   "cell_type": "code",
   "execution_count": 7,
   "id": "0955a0ed-249f-4bb6-8db5-18b9a51546ac",
   "metadata": {},
   "outputs": [
    {
     "name": "stdout",
     "output_type": "stream",
     "text": [
      "torch.Size([1, 64, 128, 128])\n",
      "torch.Size([1, 96, 64, 64])\n",
      "torch.Size([1, 128, 32, 32])\n",
      "torch.Size([1, 256, 32, 32])\n"
     ]
    }
   ],
   "source": [
    "for feature in features_raft:\n",
    "    print(feature.shape)"
   ]
  },
  {
   "cell_type": "code",
   "execution_count": 8,
   "id": "54482635-504b-475d-865f-3536e0341d5e",
   "metadata": {},
   "outputs": [
    {
     "data": {
      "text/plain": [
       "[64, 96, 128]"
      ]
     },
     "execution_count": 8,
     "metadata": {},
     "output_type": "execute_result"
    }
   ],
   "source": [
    "raft_cfg.ENCODER.FEATURE.LAYER_CONFIG"
   ]
  },
  {
   "cell_type": "code",
   "execution_count": 9,
   "id": "f9d85451-471d-4516-84c7-243dba4d8fb2",
   "metadata": {},
   "outputs": [],
   "source": [
    "raft_model = build_model('RAFT', cfg_path=\"../configs/raft/models/raft.yaml\", custom_cfg=True)"
   ]
  },
  {
   "cell_type": "code",
   "execution_count": 10,
   "id": "0cf13af6-f990-485f-846f-a055e0f6e828",
   "metadata": {},
   "outputs": [],
   "source": [
    "def count_params(model):\n",
    "    return str(sum(p.numel() for p in model.parameters() if p.requires_grad) / 1000000) + \"M params\""
   ]
  },
  {
   "cell_type": "markdown",
   "id": "aee0eaf6-d32d-48bd-9f37-61e362d87b56",
   "metadata": {
    "jp-MarkdownHeadingCollapsed": true,
    "tags": []
   },
   "source": [
    "___\n",
    "### PWCNet"
   ]
  },
  {
   "cell_type": "code",
   "execution_count": 11,
   "id": "aeed260a-de4e-4212-bf03-3b7cb3940b95",
   "metadata": {},
   "outputs": [
    {
     "data": {
      "text/plain": [
       "[16, 32, 64, 96, 128, 196]"
      ]
     },
     "execution_count": 11,
     "metadata": {},
     "output_type": "execute_result"
    }
   ],
   "source": [
    "pwc_cfg = get_cfg(\"../configs/pwcnet/models/pwcnet.yaml\")\n",
    "pwc_cfg.ENCODER.CONFIG"
   ]
  },
  {
   "cell_type": "code",
   "execution_count": 12,
   "id": "0bd81495-b86a-486d-adab-415ab3b32f2e",
   "metadata": {},
   "outputs": [],
   "source": [
    "pwc_encoder = build_encoder(pwc_cfg.ENCODER)"
   ]
  },
  {
   "cell_type": "code",
   "execution_count": 13,
   "id": "639ffe3f-32aa-47d2-9010-414b89545de3",
   "metadata": {},
   "outputs": [],
   "source": [
    "features_pwc = pwc_encoder(torch.randn(1,3,256,256)) "
   ]
  },
  {
   "cell_type": "code",
   "execution_count": 14,
   "id": "acb448e3-67e0-4520-bdcf-3120610d436b",
   "metadata": {},
   "outputs": [
    {
     "name": "stdout",
     "output_type": "stream",
     "text": [
      "torch.Size([1, 16, 128, 128])\n",
      "torch.Size([1, 32, 64, 64])\n",
      "torch.Size([1, 64, 32, 32])\n",
      "torch.Size([1, 96, 16, 16])\n",
      "torch.Size([1, 128, 8, 8])\n",
      "torch.Size([1, 196, 4, 4])\n"
     ]
    }
   ],
   "source": [
    "for feature in features_pwc:\n",
    "    print(feature.shape)"
   ]
  },
  {
   "cell_type": "code",
   "execution_count": 15,
   "id": "61e6db0c-b2a6-4fd2-b026-79405df1531a",
   "metadata": {},
   "outputs": [],
   "source": [
    "pwc_cfg2 = get_cfg(\"../configs/pwcnet/models/pwcnet_raft_encoder.yaml\")"
   ]
  },
  {
   "cell_type": "code",
   "execution_count": 16,
   "id": "695ff459-6a6b-48e0-a89b-daf57d573be0",
   "metadata": {},
   "outputs": [],
   "source": [
    "pwc_raft_encoder = build_encoder(pwc_cfg2.ENCODER)"
   ]
  },
  {
   "cell_type": "code",
   "execution_count": 17,
   "id": "76b37aad-be1e-4c87-983a-84364456a898",
   "metadata": {},
   "outputs": [],
   "source": [
    "features_pwc_raft = pwc_raft_encoder(torch.randn(1,3,256,256)) "
   ]
  },
  {
   "cell_type": "code",
   "execution_count": 18,
   "id": "9a904026-9ff0-4e94-9a1b-eccd1810fee4",
   "metadata": {},
   "outputs": [
    {
     "data": {
      "text/plain": [
       "6"
      ]
     },
     "execution_count": 18,
     "metadata": {},
     "output_type": "execute_result"
    }
   ],
   "source": [
    "len(features_pwc_raft)"
   ]
  },
  {
   "cell_type": "code",
   "execution_count": 19,
   "id": "fce24c6a-4b7f-4a0b-a098-316afcb0818b",
   "metadata": {},
   "outputs": [
    {
     "name": "stdout",
     "output_type": "stream",
     "text": [
      "True   torch.Size([1, 16, 128, 128])\n",
      "True   torch.Size([1, 32, 64, 64])\n",
      "True   torch.Size([1, 64, 32, 32])\n",
      "True   torch.Size([1, 96, 16, 16])\n",
      "True   torch.Size([1, 128, 8, 8])\n",
      "True   torch.Size([1, 196, 4, 4])\n"
     ]
    }
   ],
   "source": [
    "for i in range(len(features_pwc_raft)):\n",
    "    print(features_pwc_raft[i].shape == features_pwc[i].shape, \" \", features_pwc_raft[i].shape)"
   ]
  },
  {
   "cell_type": "code",
   "execution_count": 20,
   "id": "771e2809-9d3e-420a-9e5c-99bd39821817",
   "metadata": {},
   "outputs": [
    {
     "name": "stderr",
     "output_type": "stream",
     "text": [
      "/home/goswami.p/miniconda3/envs/ezflow/lib/python3.7/site-packages/torch/nn/modules/conv.py:132: UserWarning: __floordiv__ is deprecated, and its behavior will change in a future version of pytorch. It currently rounds toward 0 (like the 'trunc' function NOT 'floor'). This results in incorrect rounding for negative values. To keep the current behavior, use torch.div(a, b, rounding_mode='trunc'), or for actual floor division, use torch.div(a, b, rounding_mode='floor').\n",
      "  (out_channels, in_channels // groups, *kernel_size), **factory_kwargs))\n"
     ]
    }
   ],
   "source": [
    "pwcnet_model_v1 = build_model(\"PWCNet\", cfg_path=\"../configs/pwcnet/models/pwcnet.yaml\", custom_cfg=True)"
   ]
  },
  {
   "cell_type": "code",
   "execution_count": 21,
   "id": "923281fb-3d04-4a64-b159-7b91033a350d",
   "metadata": {},
   "outputs": [],
   "source": [
    "pwcnet_model_v2 = build_model(\"PWCNet\", cfg_path=\"../configs/pwcnet/models/pwcnet_raft_encoder.yaml\", custom_cfg=True)"
   ]
  },
  {
   "cell_type": "code",
   "execution_count": 24,
   "id": "0c3c9e6f-90ba-4c66-9416-8d66ca496f0d",
   "metadata": {},
   "outputs": [
    {
     "name": "stdout",
     "output_type": "stream",
     "text": [
      "\n"
     ]
    }
   ],
   "source": [
    "pwcnet_model_v2.eval()\n",
    "print()"
   ]
  },
  {
   "cell_type": "code",
   "execution_count": 25,
   "id": "b452ec22-9190-401b-87c3-eb130eb64cb6",
   "metadata": {},
   "outputs": [
    {
     "data": {
      "text/plain": [
       "torch.Size([1, 2, 256, 256])"
      ]
     },
     "execution_count": 25,
     "metadata": {},
     "output_type": "execute_result"
    }
   ],
   "source": [
    "flows = pwcnet_model_v2(torch.randn(1,3,256,256), torch.randn(1,3,256,256))\n",
    "flows['flow_upsampled'].shape"
   ]
  },
  {
   "cell_type": "code",
   "execution_count": 28,
   "id": "e69e82b2-6f21-421d-a347-cac4dc630ad8",
   "metadata": {},
   "outputs": [],
   "source": [
    "pwcnet_model_v3 = build_model(\"PWCNet\", cfg_path=\"../configs/pwcnet/models/pwcnet_raft_encoder_no_norm.yaml\", custom_cfg=True)"
   ]
  },
  {
   "cell_type": "code",
   "execution_count": 29,
   "id": "cc074a32-4344-4adc-be8c-c004d0bcbde6",
   "metadata": {},
   "outputs": [
    {
     "data": {
      "text/plain": [
       "PWCNet(\n",
       "  (encoder): BasicEncoderV2(\n",
       "    (encoder): ModuleList(\n",
       "      (0): Conv2d(3, 16, kernel_size=(7, 7), stride=(2, 2), padding=(3, 3))\n",
       "      (1): Identity()\n",
       "      (2): ReLU(inplace=True)\n",
       "      (3): Sequential(\n",
       "        (0): BasicBlock(\n",
       "          (activation): ReLU(inplace=True)\n",
       "          (residual_fn): Sequential(\n",
       "            (0): Conv2d(16, 16, kernel_size=(3, 3), stride=(1, 1), padding=(1, 1))\n",
       "            (1): Identity()\n",
       "            (2): ReLU(inplace=True)\n",
       "            (3): Conv2d(16, 16, kernel_size=(3, 3), stride=(1, 1), padding=(1, 1))\n",
       "            (4): Identity()\n",
       "          )\n",
       "          (shortcut): Identity()\n",
       "        )\n",
       "        (1): BasicBlock(\n",
       "          (activation): ReLU(inplace=True)\n",
       "          (residual_fn): Sequential(\n",
       "            (0): Conv2d(16, 16, kernel_size=(3, 3), stride=(1, 1), padding=(1, 1))\n",
       "            (1): Identity()\n",
       "            (2): ReLU(inplace=True)\n",
       "            (3): Conv2d(16, 16, kernel_size=(3, 3), stride=(1, 1), padding=(1, 1))\n",
       "            (4): Identity()\n",
       "          )\n",
       "          (shortcut): Identity()\n",
       "        )\n",
       "      )\n",
       "      (4): Sequential(\n",
       "        (0): BasicBlock(\n",
       "          (activation): ReLU(inplace=True)\n",
       "          (residual_fn): Sequential(\n",
       "            (0): Conv2d(16, 32, kernel_size=(3, 3), stride=(2, 2), padding=(1, 1))\n",
       "            (1): Identity()\n",
       "            (2): ReLU(inplace=True)\n",
       "            (3): Conv2d(32, 32, kernel_size=(3, 3), stride=(1, 1), padding=(1, 1))\n",
       "            (4): Identity()\n",
       "          )\n",
       "          (shortcut): Sequential(\n",
       "            (0): Conv2d(16, 32, kernel_size=(1, 1), stride=(2, 2))\n",
       "            (1): Identity()\n",
       "          )\n",
       "        )\n",
       "        (1): BasicBlock(\n",
       "          (activation): ReLU(inplace=True)\n",
       "          (residual_fn): Sequential(\n",
       "            (0): Conv2d(32, 32, kernel_size=(3, 3), stride=(1, 1), padding=(1, 1))\n",
       "            (1): Identity()\n",
       "            (2): ReLU(inplace=True)\n",
       "            (3): Conv2d(32, 32, kernel_size=(3, 3), stride=(1, 1), padding=(1, 1))\n",
       "            (4): Identity()\n",
       "          )\n",
       "          (shortcut): Identity()\n",
       "        )\n",
       "      )\n",
       "      (5): Sequential(\n",
       "        (0): BasicBlock(\n",
       "          (activation): ReLU(inplace=True)\n",
       "          (residual_fn): Sequential(\n",
       "            (0): Conv2d(32, 64, kernel_size=(3, 3), stride=(2, 2), padding=(1, 1))\n",
       "            (1): Identity()\n",
       "            (2): ReLU(inplace=True)\n",
       "            (3): Conv2d(64, 64, kernel_size=(3, 3), stride=(1, 1), padding=(1, 1))\n",
       "            (4): Identity()\n",
       "          )\n",
       "          (shortcut): Sequential(\n",
       "            (0): Conv2d(32, 64, kernel_size=(1, 1), stride=(2, 2))\n",
       "            (1): Identity()\n",
       "          )\n",
       "        )\n",
       "        (1): BasicBlock(\n",
       "          (activation): ReLU(inplace=True)\n",
       "          (residual_fn): Sequential(\n",
       "            (0): Conv2d(64, 64, kernel_size=(3, 3), stride=(1, 1), padding=(1, 1))\n",
       "            (1): Identity()\n",
       "            (2): ReLU(inplace=True)\n",
       "            (3): Conv2d(64, 64, kernel_size=(3, 3), stride=(1, 1), padding=(1, 1))\n",
       "            (4): Identity()\n",
       "          )\n",
       "          (shortcut): Identity()\n",
       "        )\n",
       "      )\n",
       "      (6): Sequential(\n",
       "        (0): BasicBlock(\n",
       "          (activation): ReLU(inplace=True)\n",
       "          (residual_fn): Sequential(\n",
       "            (0): Conv2d(64, 96, kernel_size=(3, 3), stride=(2, 2), padding=(1, 1))\n",
       "            (1): Identity()\n",
       "            (2): ReLU(inplace=True)\n",
       "            (3): Conv2d(96, 96, kernel_size=(3, 3), stride=(1, 1), padding=(1, 1))\n",
       "            (4): Identity()\n",
       "          )\n",
       "          (shortcut): Sequential(\n",
       "            (0): Conv2d(64, 96, kernel_size=(1, 1), stride=(2, 2))\n",
       "            (1): Identity()\n",
       "          )\n",
       "        )\n",
       "        (1): BasicBlock(\n",
       "          (activation): ReLU(inplace=True)\n",
       "          (residual_fn): Sequential(\n",
       "            (0): Conv2d(96, 96, kernel_size=(3, 3), stride=(1, 1), padding=(1, 1))\n",
       "            (1): Identity()\n",
       "            (2): ReLU(inplace=True)\n",
       "            (3): Conv2d(96, 96, kernel_size=(3, 3), stride=(1, 1), padding=(1, 1))\n",
       "            (4): Identity()\n",
       "          )\n",
       "          (shortcut): Identity()\n",
       "        )\n",
       "      )\n",
       "      (7): Sequential(\n",
       "        (0): BasicBlock(\n",
       "          (activation): ReLU(inplace=True)\n",
       "          (residual_fn): Sequential(\n",
       "            (0): Conv2d(96, 128, kernel_size=(3, 3), stride=(2, 2), padding=(1, 1))\n",
       "            (1): Identity()\n",
       "            (2): ReLU(inplace=True)\n",
       "            (3): Conv2d(128, 128, kernel_size=(3, 3), stride=(1, 1), padding=(1, 1))\n",
       "            (4): Identity()\n",
       "          )\n",
       "          (shortcut): Sequential(\n",
       "            (0): Conv2d(96, 128, kernel_size=(1, 1), stride=(2, 2))\n",
       "            (1): Identity()\n",
       "          )\n",
       "        )\n",
       "        (1): BasicBlock(\n",
       "          (activation): ReLU(inplace=True)\n",
       "          (residual_fn): Sequential(\n",
       "            (0): Conv2d(128, 128, kernel_size=(3, 3), stride=(1, 1), padding=(1, 1))\n",
       "            (1): Identity()\n",
       "            (2): ReLU(inplace=True)\n",
       "            (3): Conv2d(128, 128, kernel_size=(3, 3), stride=(1, 1), padding=(1, 1))\n",
       "            (4): Identity()\n",
       "          )\n",
       "          (shortcut): Identity()\n",
       "        )\n",
       "      )\n",
       "      (8): Sequential(\n",
       "        (0): BasicBlock(\n",
       "          (activation): ReLU(inplace=True)\n",
       "          (residual_fn): Sequential(\n",
       "            (0): Conv2d(128, 196, kernel_size=(3, 3), stride=(2, 2), padding=(1, 1))\n",
       "            (1): Identity()\n",
       "            (2): ReLU(inplace=True)\n",
       "            (3): Conv2d(196, 196, kernel_size=(3, 3), stride=(1, 1), padding=(1, 1))\n",
       "            (4): Identity()\n",
       "          )\n",
       "          (shortcut): Sequential(\n",
       "            (0): Conv2d(128, 196, kernel_size=(1, 1), stride=(2, 2))\n",
       "            (1): Identity()\n",
       "          )\n",
       "        )\n",
       "        (1): BasicBlock(\n",
       "          (activation): ReLU(inplace=True)\n",
       "          (residual_fn): Sequential(\n",
       "            (0): Conv2d(196, 196, kernel_size=(3, 3), stride=(1, 1), padding=(1, 1))\n",
       "            (1): Identity()\n",
       "            (2): ReLU(inplace=True)\n",
       "            (3): Conv2d(196, 196, kernel_size=(3, 3), stride=(1, 1), padding=(1, 1))\n",
       "            (4): Identity()\n",
       "          )\n",
       "          (shortcut): Identity()\n",
       "        )\n",
       "      )\n",
       "    )\n",
       "    (regress_layer): Conv2d(196, 196, kernel_size=(1, 1), stride=(1, 1))\n",
       "    (dropout): Identity()\n",
       "  )\n",
       "  (decoder): PyramidDecoder(\n",
       "    (correlation_layer): IterSpatialCorrelationSampler()\n",
       "    (leaky_relu): LeakyReLU(negative_slope=0.1)\n",
       "    (decoder_layers): ModuleList(\n",
       "      (0): ConvDecoder(\n",
       "        (decoder): ModuleList(\n",
       "          (0): Sequential(\n",
       "            (0): Conv2d(81, 128, kernel_size=(3, 3), stride=(1, 1), padding=(1, 1))\n",
       "            (1): LeakyReLU(negative_slope=0.1)\n",
       "          )\n",
       "          (1): Sequential(\n",
       "            (0): Conv2d(209, 128, kernel_size=(3, 3), stride=(1, 1), padding=(1, 1))\n",
       "            (1): LeakyReLU(negative_slope=0.1)\n",
       "          )\n",
       "          (2): Sequential(\n",
       "            (0): Conv2d(337, 96, kernel_size=(3, 3), stride=(1, 1), padding=(1, 1))\n",
       "            (1): LeakyReLU(negative_slope=0.1)\n",
       "          )\n",
       "          (3): Sequential(\n",
       "            (0): Conv2d(433, 64, kernel_size=(3, 3), stride=(1, 1), padding=(1, 1))\n",
       "            (1): LeakyReLU(negative_slope=0.1)\n",
       "          )\n",
       "          (4): Sequential(\n",
       "            (0): Conv2d(497, 32, kernel_size=(3, 3), stride=(1, 1), padding=(1, 1))\n",
       "            (1): LeakyReLU(negative_slope=0.1)\n",
       "          )\n",
       "        )\n",
       "        (to_flow): Conv2d(529, 2, kernel_size=(3, 3), stride=(1, 1), padding=(1, 1))\n",
       "      )\n",
       "      (1): ConvDecoder(\n",
       "        (decoder): ModuleList(\n",
       "          (0): Sequential(\n",
       "            (0): Conv2d(213, 128, kernel_size=(3, 3), stride=(1, 1), padding=(1, 1))\n",
       "            (1): LeakyReLU(negative_slope=0.1)\n",
       "          )\n",
       "          (1): Sequential(\n",
       "            (0): Conv2d(341, 128, kernel_size=(3, 3), stride=(1, 1), padding=(1, 1))\n",
       "            (1): LeakyReLU(negative_slope=0.1)\n",
       "          )\n",
       "          (2): Sequential(\n",
       "            (0): Conv2d(469, 96, kernel_size=(3, 3), stride=(1, 1), padding=(1, 1))\n",
       "            (1): LeakyReLU(negative_slope=0.1)\n",
       "          )\n",
       "          (3): Sequential(\n",
       "            (0): Conv2d(565, 64, kernel_size=(3, 3), stride=(1, 1), padding=(1, 1))\n",
       "            (1): LeakyReLU(negative_slope=0.1)\n",
       "          )\n",
       "          (4): Sequential(\n",
       "            (0): Conv2d(629, 32, kernel_size=(3, 3), stride=(1, 1), padding=(1, 1))\n",
       "            (1): LeakyReLU(negative_slope=0.1)\n",
       "          )\n",
       "        )\n",
       "        (to_flow): Conv2d(661, 2, kernel_size=(3, 3), stride=(1, 1), padding=(1, 1))\n",
       "      )\n",
       "      (2): ConvDecoder(\n",
       "        (decoder): ModuleList(\n",
       "          (0): Sequential(\n",
       "            (0): Conv2d(181, 128, kernel_size=(3, 3), stride=(1, 1), padding=(1, 1))\n",
       "            (1): LeakyReLU(negative_slope=0.1)\n",
       "          )\n",
       "          (1): Sequential(\n",
       "            (0): Conv2d(309, 128, kernel_size=(3, 3), stride=(1, 1), padding=(1, 1))\n",
       "            (1): LeakyReLU(negative_slope=0.1)\n",
       "          )\n",
       "          (2): Sequential(\n",
       "            (0): Conv2d(437, 96, kernel_size=(3, 3), stride=(1, 1), padding=(1, 1))\n",
       "            (1): LeakyReLU(negative_slope=0.1)\n",
       "          )\n",
       "          (3): Sequential(\n",
       "            (0): Conv2d(533, 64, kernel_size=(3, 3), stride=(1, 1), padding=(1, 1))\n",
       "            (1): LeakyReLU(negative_slope=0.1)\n",
       "          )\n",
       "          (4): Sequential(\n",
       "            (0): Conv2d(597, 32, kernel_size=(3, 3), stride=(1, 1), padding=(1, 1))\n",
       "            (1): LeakyReLU(negative_slope=0.1)\n",
       "          )\n",
       "        )\n",
       "        (to_flow): Conv2d(629, 2, kernel_size=(3, 3), stride=(1, 1), padding=(1, 1))\n",
       "      )\n",
       "      (3): ConvDecoder(\n",
       "        (decoder): ModuleList(\n",
       "          (0): Sequential(\n",
       "            (0): Conv2d(149, 128, kernel_size=(3, 3), stride=(1, 1), padding=(1, 1))\n",
       "            (1): LeakyReLU(negative_slope=0.1)\n",
       "          )\n",
       "          (1): Sequential(\n",
       "            (0): Conv2d(277, 128, kernel_size=(3, 3), stride=(1, 1), padding=(1, 1))\n",
       "            (1): LeakyReLU(negative_slope=0.1)\n",
       "          )\n",
       "          (2): Sequential(\n",
       "            (0): Conv2d(405, 96, kernel_size=(3, 3), stride=(1, 1), padding=(1, 1))\n",
       "            (1): LeakyReLU(negative_slope=0.1)\n",
       "          )\n",
       "          (3): Sequential(\n",
       "            (0): Conv2d(501, 64, kernel_size=(3, 3), stride=(1, 1), padding=(1, 1))\n",
       "            (1): LeakyReLU(negative_slope=0.1)\n",
       "          )\n",
       "          (4): Sequential(\n",
       "            (0): Conv2d(565, 32, kernel_size=(3, 3), stride=(1, 1), padding=(1, 1))\n",
       "            (1): LeakyReLU(negative_slope=0.1)\n",
       "          )\n",
       "        )\n",
       "        (to_flow): Conv2d(597, 2, kernel_size=(3, 3), stride=(1, 1), padding=(1, 1))\n",
       "      )\n",
       "      (4): ConvDecoder(\n",
       "        (decoder): ModuleList(\n",
       "          (0): Sequential(\n",
       "            (0): Conv2d(117, 128, kernel_size=(3, 3), stride=(1, 1), padding=(1, 1))\n",
       "            (1): LeakyReLU(negative_slope=0.1)\n",
       "          )\n",
       "          (1): Sequential(\n",
       "            (0): Conv2d(245, 128, kernel_size=(3, 3), stride=(1, 1), padding=(1, 1))\n",
       "            (1): LeakyReLU(negative_slope=0.1)\n",
       "          )\n",
       "          (2): Sequential(\n",
       "            (0): Conv2d(373, 96, kernel_size=(3, 3), stride=(1, 1), padding=(1, 1))\n",
       "            (1): LeakyReLU(negative_slope=0.1)\n",
       "          )\n",
       "          (3): Sequential(\n",
       "            (0): Conv2d(469, 64, kernel_size=(3, 3), stride=(1, 1), padding=(1, 1))\n",
       "            (1): LeakyReLU(negative_slope=0.1)\n",
       "          )\n",
       "          (4): Sequential(\n",
       "            (0): Conv2d(533, 32, kernel_size=(3, 3), stride=(1, 1), padding=(1, 1))\n",
       "            (1): LeakyReLU(negative_slope=0.1)\n",
       "          )\n",
       "        )\n",
       "        (to_flow): Conv2d(565, 2, kernel_size=(3, 3), stride=(1, 1), padding=(1, 1))\n",
       "      )\n",
       "    )\n",
       "    (up_feature_layers): ModuleList(\n",
       "      (0): ConvTranspose2d(529, 2, kernel_size=(4, 4), stride=(2, 2), padding=(1, 1))\n",
       "      (1): ConvTranspose2d(661, 2, kernel_size=(4, 4), stride=(2, 2), padding=(1, 1))\n",
       "      (2): ConvTranspose2d(629, 2, kernel_size=(4, 4), stride=(2, 2), padding=(1, 1))\n",
       "      (3): ConvTranspose2d(597, 2, kernel_size=(4, 4), stride=(2, 2), padding=(1, 1))\n",
       "    )\n",
       "    (deconv_layers): ModuleList(\n",
       "      (0): ConvTranspose2d(2, 2, kernel_size=(4, 4), stride=(2, 2), padding=(1, 1))\n",
       "      (1): ConvTranspose2d(2, 2, kernel_size=(4, 4), stride=(2, 2), padding=(1, 1))\n",
       "      (2): ConvTranspose2d(2, 2, kernel_size=(4, 4), stride=(2, 2), padding=(1, 1))\n",
       "      (3): ConvTranspose2d(2, 2, kernel_size=(4, 4), stride=(2, 2), padding=(1, 1))\n",
       "    )\n",
       "  )\n",
       "  (context_net): ContextNetwork(\n",
       "    (context_net): Sequential(\n",
       "      (0): Sequential(\n",
       "        (0): Conv2d(565, 128, kernel_size=(3, 3), stride=(1, 1), padding=(1, 1))\n",
       "        (1): Identity()\n",
       "        (2): LeakyReLU(negative_slope=0.1, inplace=True)\n",
       "      )\n",
       "      (1): Sequential(\n",
       "        (0): Conv2d(128, 128, kernel_size=(3, 3), stride=(1, 1), padding=(2, 2), dilation=(2, 2))\n",
       "        (1): Identity()\n",
       "        (2): LeakyReLU(negative_slope=0.1, inplace=True)\n",
       "      )\n",
       "      (2): Sequential(\n",
       "        (0): Conv2d(128, 128, kernel_size=(3, 3), stride=(1, 1), padding=(4, 4), dilation=(4, 4))\n",
       "        (1): Identity()\n",
       "        (2): LeakyReLU(negative_slope=0.1, inplace=True)\n",
       "      )\n",
       "      (3): Sequential(\n",
       "        (0): Conv2d(128, 96, kernel_size=(3, 3), stride=(1, 1), padding=(8, 8), dilation=(8, 8))\n",
       "        (1): Identity()\n",
       "        (2): LeakyReLU(negative_slope=0.1, inplace=True)\n",
       "      )\n",
       "      (4): Sequential(\n",
       "        (0): Conv2d(96, 64, kernel_size=(3, 3), stride=(1, 1), padding=(16, 16), dilation=(16, 16))\n",
       "        (1): Identity()\n",
       "        (2): LeakyReLU(negative_slope=0.1, inplace=True)\n",
       "      )\n",
       "      (5): Sequential(\n",
       "        (0): Conv2d(64, 32, kernel_size=(3, 3), stride=(1, 1), padding=(1, 1))\n",
       "        (1): Identity()\n",
       "        (2): LeakyReLU(negative_slope=0.1, inplace=True)\n",
       "      )\n",
       "      (6): Conv2d(32, 2, kernel_size=(3, 3), stride=(1, 1), padding=(1, 1))\n",
       "    )\n",
       "  )\n",
       ")"
      ]
     },
     "execution_count": 29,
     "metadata": {},
     "output_type": "execute_result"
    }
   ],
   "source": [
    "pwcnet_model_v3.eval()"
   ]
  },
  {
   "cell_type": "code",
   "execution_count": 30,
   "id": "bbc86152-95b2-4277-91af-a8366d92f74f",
   "metadata": {},
   "outputs": [
    {
     "data": {
      "text/plain": [
       "torch.Size([1, 2, 256, 256])"
      ]
     },
     "execution_count": 30,
     "metadata": {},
     "output_type": "execute_result"
    }
   ],
   "source": [
    "flows = pwcnet_model_v3(torch.randn(1,3,256,256), torch.randn(1,3,256,256))\n",
    "flows['flow_upsampled'].shape"
   ]
  },
  {
   "cell_type": "code",
   "execution_count": 31,
   "id": "a740fbc8-c770-4201-a828-862d5f2ec6f5",
   "metadata": {},
   "outputs": [
    {
     "data": {
      "text/plain": [
       "('9.374274M params', '10.088782M params', '10.088782M params')"
      ]
     },
     "execution_count": 31,
     "metadata": {},
     "output_type": "execute_result"
    }
   ],
   "source": [
    "count_params(pwcnet_model_v1), count_params(pwcnet_model_v2), count_params(pwcnet_model_v3)"
   ]
  },
  {
   "cell_type": "markdown",
   "id": "456b60de-a300-4f71-9c88-433938158180",
   "metadata": {
    "tags": []
   },
   "source": [
    "___\n",
    "\n",
    "### Flownet C"
   ]
  },
  {
   "cell_type": "code",
   "execution_count": 11,
   "id": "3f0ccb6b-b01b-4964-b816-7191aad3f5b5",
   "metadata": {},
   "outputs": [],
   "source": [
    "from nnflow.models.flownet_c_v2 import FlowNetC_V2"
   ]
  },
  {
   "cell_type": "code",
   "execution_count": 12,
   "id": "4ca67619-f7d9-4995-b138-086ca4ddd889",
   "metadata": {},
   "outputs": [
    {
     "data": {
      "text/plain": [
       "[256, 512, 512, 512, 512, 1024, 1024]"
      ]
     },
     "execution_count": 12,
     "metadata": {},
     "output_type": "execute_result"
    }
   ],
   "source": [
    "flownetc_cfg = get_cfg(\"../configs/flownet_c/models/flownet_c.yaml\")\n",
    "channels = flownetc_cfg.ENCODER.CONFIG\n",
    "flownetc_cfg.ENCODER.CONFIG = flownetc_cfg.ENCODER.CONFIG[:3]\n",
    "channels[3:]"
   ]
  },
  {
   "cell_type": "code",
   "execution_count": 13,
   "id": "bce7ccc8-cbe5-45cf-b880-9ab365afc258",
   "metadata": {},
   "outputs": [
    {
     "data": {
      "text/plain": [
       "[64, 128, 256]"
      ]
     },
     "execution_count": 13,
     "metadata": {},
     "output_type": "execute_result"
    }
   ],
   "source": [
    "flownetc_cfg.ENCODER.CONFIG"
   ]
  },
  {
   "cell_type": "code",
   "execution_count": 14,
   "id": "fe7f76cd-bd90-41b1-bc1b-f85aa35f61e1",
   "metadata": {},
   "outputs": [],
   "source": [
    "flownetc_encoder = build_encoder(flownetc_cfg.ENCODER)"
   ]
  },
  {
   "cell_type": "code",
   "execution_count": 15,
   "id": "bccc7b83-0792-4d67-994b-81c3ff53a974",
   "metadata": {},
   "outputs": [
    {
     "data": {
      "text/plain": [
       "'1.033856M params'"
      ]
     },
     "execution_count": 15,
     "metadata": {},
     "output_type": "execute_result"
    }
   ],
   "source": [
    "count_params(flownetc_encoder)"
   ]
  },
  {
   "cell_type": "code",
   "execution_count": 16,
   "id": "6261f96f-533c-4eb4-b393-8709330a3912",
   "metadata": {},
   "outputs": [],
   "source": [
    "features_flc = flownetc_encoder(torch.randn(1,3,256,256)) "
   ]
  },
  {
   "cell_type": "code",
   "execution_count": 17,
   "id": "61d1c056-8c1a-4147-8098-94445f780a87",
   "metadata": {},
   "outputs": [
    {
     "name": "stdout",
     "output_type": "stream",
     "text": [
      "torch.Size([1, 64, 128, 128])\n",
      "torch.Size([1, 128, 64, 64])\n",
      "torch.Size([1, 256, 32, 32])\n"
     ]
    }
   ],
   "source": [
    "for feature in features_flc:\n",
    "    print(feature.shape)"
   ]
  },
  {
   "cell_type": "code",
   "execution_count": 18,
   "id": "f4994893-6f97-429d-843f-3e3c483f6511",
   "metadata": {},
   "outputs": [],
   "source": [
    "flownetc_cfg2 = get_cfg(\"../configs/flownet_c/models/flownet_c_raft_encoder.yaml\")"
   ]
  },
  {
   "cell_type": "code",
   "execution_count": 19,
   "id": "fac3671f-ed4c-4363-a647-8bada8757957",
   "metadata": {},
   "outputs": [],
   "source": [
    "flowc_raft_encoder = build_encoder(flownetc_cfg2.ENCODER)"
   ]
  },
  {
   "cell_type": "code",
   "execution_count": 20,
   "id": "2a515526-c47a-4d48-8429-0b6848452ff1",
   "metadata": {},
   "outputs": [
    {
     "data": {
      "text/plain": [
       "'2.846336M params'"
      ]
     },
     "execution_count": 20,
     "metadata": {},
     "output_type": "execute_result"
    }
   ],
   "source": [
    "count_params(flowc_raft_encoder)"
   ]
  },
  {
   "cell_type": "code",
   "execution_count": 21,
   "id": "4384474b-de67-4b37-830b-e34250df6f77",
   "metadata": {},
   "outputs": [],
   "source": [
    "features_flowc_raft = flowc_raft_encoder(torch.randn(1,3,256,256)) "
   ]
  },
  {
   "cell_type": "code",
   "execution_count": 22,
   "id": "c1abf702-a227-4dac-b65b-4968cfb4e98b",
   "metadata": {},
   "outputs": [
    {
     "data": {
      "text/plain": [
       "True"
      ]
     },
     "execution_count": 22,
     "metadata": {},
     "output_type": "execute_result"
    }
   ],
   "source": [
    "len(features_flowc_raft) == len(features_flc)"
   ]
  },
  {
   "cell_type": "code",
   "execution_count": 23,
   "id": "facf315e-c780-4779-bb24-0da25677f498",
   "metadata": {},
   "outputs": [
    {
     "name": "stdout",
     "output_type": "stream",
     "text": [
      "True   torch.Size([1, 64, 128, 128])\n",
      "True   torch.Size([1, 128, 64, 64])\n",
      "True   torch.Size([1, 256, 32, 32])\n"
     ]
    }
   ],
   "source": [
    "for i in range(len(features_flowc_raft)):\n",
    "    print(features_flowc_raft[i].shape == features_flc[i].shape, \" \", features_flowc_raft[i].shape)"
   ]
  },
  {
   "cell_type": "code",
   "execution_count": 24,
   "id": "bba11420-132d-4d7c-aa7e-6c176bd26253",
   "metadata": {},
   "outputs": [],
   "source": [
    "flownetc_model_v1 = build_model(\"FlowNetC\", cfg_path=\"../configs/flownet_c/models/flownet_c.yaml\", custom_cfg=True)"
   ]
  },
  {
   "cell_type": "code",
   "execution_count": 31,
   "id": "1b940cdd-1500-41ff-82b8-1b8a5db12591",
   "metadata": {},
   "outputs": [],
   "source": [
    "flownetc_model_v2 = build_model(\"FlowNetC_V2\", cfg_path=\"../configs/flownet_c/models/flownet_c_raft_encoder_no_norm.yaml\", custom_cfg=True)"
   ]
  },
  {
   "cell_type": "code",
   "execution_count": 35,
   "id": "fbf3b5a1-da64-4664-a7ac-6d3bede9445f",
   "metadata": {},
   "outputs": [
    {
     "data": {
      "text/plain": [
       "FlowNetC_V2(\n",
       "  (feature_encoder): BasicEncoderV2(\n",
       "    (encoder): ModuleList(\n",
       "      (0): Conv2d(3, 64, kernel_size=(7, 7), stride=(2, 2), padding=(3, 3))\n",
       "      (1): Identity()\n",
       "      (2): ReLU(inplace=True)\n",
       "      (3): Sequential(\n",
       "        (0): BasicBlock(\n",
       "          (activation): ReLU(inplace=True)\n",
       "          (residual_fn): Sequential(\n",
       "            (0): Conv2d(64, 64, kernel_size=(3, 3), stride=(1, 1), padding=(1, 1))\n",
       "            (1): Identity()\n",
       "            (2): ReLU(inplace=True)\n",
       "            (3): Conv2d(64, 64, kernel_size=(3, 3), stride=(1, 1), padding=(1, 1))\n",
       "            (4): Identity()\n",
       "          )\n",
       "          (shortcut): Identity()\n",
       "        )\n",
       "        (1): BasicBlock(\n",
       "          (activation): ReLU(inplace=True)\n",
       "          (residual_fn): Sequential(\n",
       "            (0): Conv2d(64, 64, kernel_size=(3, 3), stride=(1, 1), padding=(1, 1))\n",
       "            (1): Identity()\n",
       "            (2): ReLU(inplace=True)\n",
       "            (3): Conv2d(64, 64, kernel_size=(3, 3), stride=(1, 1), padding=(1, 1))\n",
       "            (4): Identity()\n",
       "          )\n",
       "          (shortcut): Identity()\n",
       "        )\n",
       "      )\n",
       "      (4): Sequential(\n",
       "        (0): BasicBlock(\n",
       "          (activation): ReLU(inplace=True)\n",
       "          (residual_fn): Sequential(\n",
       "            (0): Conv2d(64, 128, kernel_size=(3, 3), stride=(2, 2), padding=(1, 1))\n",
       "            (1): Identity()\n",
       "            (2): ReLU(inplace=True)\n",
       "            (3): Conv2d(128, 128, kernel_size=(3, 3), stride=(1, 1), padding=(1, 1))\n",
       "            (4): Identity()\n",
       "          )\n",
       "          (shortcut): Sequential(\n",
       "            (0): Conv2d(64, 128, kernel_size=(1, 1), stride=(2, 2))\n",
       "            (1): Identity()\n",
       "          )\n",
       "        )\n",
       "        (1): BasicBlock(\n",
       "          (activation): ReLU(inplace=True)\n",
       "          (residual_fn): Sequential(\n",
       "            (0): Conv2d(128, 128, kernel_size=(3, 3), stride=(1, 1), padding=(1, 1))\n",
       "            (1): Identity()\n",
       "            (2): ReLU(inplace=True)\n",
       "            (3): Conv2d(128, 128, kernel_size=(3, 3), stride=(1, 1), padding=(1, 1))\n",
       "            (4): Identity()\n",
       "          )\n",
       "          (shortcut): Identity()\n",
       "        )\n",
       "      )\n",
       "      (5): Sequential(\n",
       "        (0): BasicBlock(\n",
       "          (activation): ReLU(inplace=True)\n",
       "          (residual_fn): Sequential(\n",
       "            (0): Conv2d(128, 256, kernel_size=(3, 3), stride=(2, 2), padding=(1, 1))\n",
       "            (1): Identity()\n",
       "            (2): ReLU(inplace=True)\n",
       "            (3): Conv2d(256, 256, kernel_size=(3, 3), stride=(1, 1), padding=(1, 1))\n",
       "            (4): Identity()\n",
       "          )\n",
       "          (shortcut): Sequential(\n",
       "            (0): Conv2d(128, 256, kernel_size=(1, 1), stride=(2, 2))\n",
       "            (1): Identity()\n",
       "          )\n",
       "        )\n",
       "        (1): BasicBlock(\n",
       "          (activation): ReLU(inplace=True)\n",
       "          (residual_fn): Sequential(\n",
       "            (0): Conv2d(256, 256, kernel_size=(3, 3), stride=(1, 1), padding=(1, 1))\n",
       "            (1): Identity()\n",
       "            (2): ReLU(inplace=True)\n",
       "            (3): Conv2d(256, 256, kernel_size=(3, 3), stride=(1, 1), padding=(1, 1))\n",
       "            (4): Identity()\n",
       "          )\n",
       "          (shortcut): Identity()\n",
       "        )\n",
       "      )\n",
       "    )\n",
       "    (regress_layer): Conv2d(256, 256, kernel_size=(1, 1), stride=(1, 1))\n",
       "    (dropout): Identity()\n",
       "  )\n",
       "  (correlation_layer): IterSpatialCorrelationSampler()\n",
       "  (corr_activation): LeakyReLU(negative_slope=0.1, inplace=True)\n",
       "  (conv_redirect): Sequential(\n",
       "    (0): Conv2d(256, 32, kernel_size=(3, 3), stride=(1, 1), padding=(1, 1))\n",
       "    (1): Identity()\n",
       "    (2): LeakyReLU(negative_slope=0.1, inplace=True)\n",
       "  )\n",
       "  (combine_corr): Sequential(\n",
       "    (0): Conv2d(473, 256, kernel_size=(3, 3), stride=(1, 1), padding=(1, 1))\n",
       "    (1): Identity()\n",
       "    (2): LeakyReLU(negative_slope=0.1, inplace=True)\n",
       "  )\n",
       "  (corr_encoder): BasicEncoderV2(\n",
       "    (encoder): ModuleList(\n",
       "      (0): Conv2d(256, 512, kernel_size=(7, 7), stride=(2, 2), padding=(3, 3))\n",
       "      (1): Identity()\n",
       "      (2): ReLU(inplace=True)\n",
       "      (3): Sequential(\n",
       "        (0): BasicBlock(\n",
       "          (activation): ReLU(inplace=True)\n",
       "          (residual_fn): Sequential(\n",
       "            (0): Conv2d(512, 512, kernel_size=(3, 3), stride=(1, 1), padding=(1, 1))\n",
       "            (1): Identity()\n",
       "            (2): ReLU(inplace=True)\n",
       "            (3): Conv2d(512, 512, kernel_size=(3, 3), stride=(1, 1), padding=(1, 1))\n",
       "            (4): Identity()\n",
       "          )\n",
       "          (shortcut): Identity()\n",
       "        )\n",
       "        (1): BasicBlock(\n",
       "          (activation): ReLU(inplace=True)\n",
       "          (residual_fn): Sequential(\n",
       "            (0): Conv2d(512, 512, kernel_size=(3, 3), stride=(1, 1), padding=(1, 1))\n",
       "            (1): Identity()\n",
       "            (2): ReLU(inplace=True)\n",
       "            (3): Conv2d(512, 512, kernel_size=(3, 3), stride=(1, 1), padding=(1, 1))\n",
       "            (4): Identity()\n",
       "          )\n",
       "          (shortcut): Identity()\n",
       "        )\n",
       "      )\n",
       "      (4): Sequential(\n",
       "        (0): BasicBlock(\n",
       "          (activation): ReLU(inplace=True)\n",
       "          (residual_fn): Sequential(\n",
       "            (0): Conv2d(512, 512, kernel_size=(3, 3), stride=(2, 2), padding=(1, 1))\n",
       "            (1): Identity()\n",
       "            (2): ReLU(inplace=True)\n",
       "            (3): Conv2d(512, 512, kernel_size=(3, 3), stride=(1, 1), padding=(1, 1))\n",
       "            (4): Identity()\n",
       "          )\n",
       "          (shortcut): Sequential(\n",
       "            (0): Conv2d(512, 512, kernel_size=(1, 1), stride=(2, 2))\n",
       "            (1): Identity()\n",
       "          )\n",
       "        )\n",
       "        (1): BasicBlock(\n",
       "          (activation): ReLU(inplace=True)\n",
       "          (residual_fn): Sequential(\n",
       "            (0): Conv2d(512, 512, kernel_size=(3, 3), stride=(1, 1), padding=(1, 1))\n",
       "            (1): Identity()\n",
       "            (2): ReLU(inplace=True)\n",
       "            (3): Conv2d(512, 512, kernel_size=(3, 3), stride=(1, 1), padding=(1, 1))\n",
       "            (4): Identity()\n",
       "          )\n",
       "          (shortcut): Identity()\n",
       "        )\n",
       "      )\n",
       "      (5): Sequential(\n",
       "        (0): BasicBlock(\n",
       "          (activation): ReLU(inplace=True)\n",
       "          (residual_fn): Sequential(\n",
       "            (0): Conv2d(512, 1024, kernel_size=(3, 3), stride=(2, 2), padding=(1, 1))\n",
       "            (1): Identity()\n",
       "            (2): ReLU(inplace=True)\n",
       "            (3): Conv2d(1024, 1024, kernel_size=(3, 3), stride=(1, 1), padding=(1, 1))\n",
       "            (4): Identity()\n",
       "          )\n",
       "          (shortcut): Sequential(\n",
       "            (0): Conv2d(512, 1024, kernel_size=(1, 1), stride=(2, 2))\n",
       "            (1): Identity()\n",
       "          )\n",
       "        )\n",
       "        (1): BasicBlock(\n",
       "          (activation): ReLU(inplace=True)\n",
       "          (residual_fn): Sequential(\n",
       "            (0): Conv2d(1024, 1024, kernel_size=(3, 3), stride=(1, 1), padding=(1, 1))\n",
       "            (1): Identity()\n",
       "            (2): ReLU(inplace=True)\n",
       "            (3): Conv2d(1024, 1024, kernel_size=(3, 3), stride=(1, 1), padding=(1, 1))\n",
       "            (4): Identity()\n",
       "          )\n",
       "          (shortcut): Identity()\n",
       "        )\n",
       "      )\n",
       "    )\n",
       "    (regress_layer): Conv2d(1024, 1024, kernel_size=(1, 1), stride=(1, 1))\n",
       "    (dropout): Identity()\n",
       "  )\n",
       "  (decoder): FlowNetConvDecoder(\n",
       "    (predict_flow): ModuleList(\n",
       "      (0): Conv2d(1024, 2, kernel_size=(3, 3), stride=(1, 1), padding=(1, 1), bias=False)\n",
       "      (1): Conv2d(1026, 2, kernel_size=(3, 3), stride=(1, 1), padding=(1, 1), bias=False)\n",
       "      (2): Conv2d(770, 2, kernel_size=(3, 3), stride=(1, 1), padding=(1, 1), bias=False)\n",
       "      (3): Conv2d(386, 2, kernel_size=(3, 3), stride=(1, 1), padding=(1, 1), bias=False)\n",
       "    )\n",
       "    (upsample_flow): ModuleList(\n",
       "      (0): ConvTranspose2d(2, 2, kernel_size=(4, 4), stride=(2, 2), padding=(1, 1), bias=False)\n",
       "      (1): ConvTranspose2d(2, 2, kernel_size=(4, 4), stride=(2, 2), padding=(1, 1), bias=False)\n",
       "      (2): ConvTranspose2d(2, 2, kernel_size=(4, 4), stride=(2, 2), padding=(1, 1), bias=False)\n",
       "      (3): ConvTranspose2d(2, 2, kernel_size=(4, 4), stride=(2, 2), padding=(1, 1), bias=False)\n",
       "    )\n",
       "    (deconv): ModuleList(\n",
       "      (0): Sequential(\n",
       "        (0): ConvTranspose2d(1024, 512, kernel_size=(4, 4), stride=(2, 2), padding=(1, 1), bias=False)\n",
       "        (1): LeakyReLU(negative_slope=0.1, inplace=True)\n",
       "      )\n",
       "      (1): Sequential(\n",
       "        (0): ConvTranspose2d(1026, 256, kernel_size=(4, 4), stride=(2, 2), padding=(1, 1), bias=False)\n",
       "        (1): LeakyReLU(negative_slope=0.1, inplace=True)\n",
       "      )\n",
       "      (2): Sequential(\n",
       "        (0): ConvTranspose2d(770, 128, kernel_size=(4, 4), stride=(2, 2), padding=(1, 1), bias=False)\n",
       "        (1): LeakyReLU(negative_slope=0.1, inplace=True)\n",
       "      )\n",
       "      (3): Sequential(\n",
       "        (0): ConvTranspose2d(386, 64, kernel_size=(4, 4), stride=(2, 2), padding=(1, 1), bias=False)\n",
       "        (1): LeakyReLU(negative_slope=0.1, inplace=True)\n",
       "      )\n",
       "    )\n",
       "    (to_flow): Conv2d(194, 2, kernel_size=(3, 3), stride=(1, 1), padding=(1, 1), bias=False)\n",
       "  )\n",
       ")"
      ]
     },
     "execution_count": 35,
     "metadata": {},
     "output_type": "execute_result"
    }
   ],
   "source": [
    "flownetc_model_v2.eval()"
   ]
  },
  {
   "cell_type": "code",
   "execution_count": 33,
   "id": "5e56c266-5ab0-49fd-ad5f-8b1563753f48",
   "metadata": {},
   "outputs": [
    {
     "data": {
      "text/plain": [
       "('39.24424M params', '78.80824M params')"
      ]
     },
     "execution_count": 33,
     "metadata": {},
     "output_type": "execute_result"
    }
   ],
   "source": [
    "count_params(flownetc_model_v1), count_params(flownetc_model_v2)"
   ]
  },
  {
   "cell_type": "code",
   "execution_count": 34,
   "id": "b994c3af-d58a-4c3e-9d3e-8ebc0c956ddd",
   "metadata": {},
   "outputs": [
    {
     "data": {
      "text/plain": [
       "torch.Size([1, 2, 256, 256])"
      ]
     },
     "execution_count": 34,
     "metadata": {},
     "output_type": "execute_result"
    }
   ],
   "source": [
    "flows = flownetc_model_v2(torch.randn(1,3,256,256), torch.randn(1,3,256,256))\n",
    "flows['flow_upsampled'].shape"
   ]
  },
  {
   "cell_type": "markdown",
   "id": "3240a33c-2436-4fef-9f56-6399af5f6461",
   "metadata": {},
   "source": [
    "___\n",
    "\n",
    "### Test"
   ]
  },
  {
   "cell_type": "code",
   "execution_count": 95,
   "id": "09076518-232d-4f13-b9b9-e7155a1709d5",
   "metadata": {},
   "outputs": [],
   "source": [
    "from ezflow.engine import schedulers, optimizers"
   ]
  },
  {
   "cell_type": "code",
   "execution_count": 96,
   "id": "eaaea406-f980-4798-94de-7c7ba272f194",
   "metadata": {},
   "outputs": [
    {
     "data": {
      "text/plain": [
       "torch.optim.adamw.AdamW"
      ]
     },
     "execution_count": 96,
     "metadata": {},
     "output_type": "execute_result"
    }
   ],
   "source": [
    "opt = optimizers.get(\"AdamW\")\n",
    "opt"
   ]
  },
  {
   "cell_type": "code",
   "execution_count": 90,
   "id": "b0fb4d43-6802-41f1-b93a-629fbfeae803",
   "metadata": {},
   "outputs": [
    {
     "data": {
      "text/plain": [
       "torch.optim.lr_scheduler.OneCycleLR"
      ]
     },
     "execution_count": 90,
     "metadata": {},
     "output_type": "execute_result"
    }
   ],
   "source": [
    "sched = schedulers.get(\"OneCycleLR\")\n",
    "sched"
   ]
  },
  {
   "cell_type": "code",
   "execution_count": 92,
   "id": "98254f24-73ab-40f2-b2f2-02b6f58a1693",
   "metadata": {},
   "outputs": [],
   "source": [
    "train_cfg = get_cfg(\"../configs/raft/trainer/kubric_v1_0.yaml\")"
   ]
  },
  {
   "cell_type": "code",
   "execution_count": 93,
   "id": "d21a122b-a368-473b-83ee-219dac8b8458",
   "metadata": {},
   "outputs": [
    {
     "data": {
      "text/plain": [
       "CfgNode({'USE': True, 'NAME': 'OneCycleLR', 'PARAMS': CfgNode({'max_lr': 0.0004, 'total_steps': 100100, 'pct_start': 0.05, 'cycle_momentum': False, 'anneal_strategy': 'linear'})})"
      ]
     },
     "execution_count": 93,
     "metadata": {},
     "output_type": "execute_result"
    }
   ],
   "source": [
    "train_cfg.SCHEDULER"
   ]
  },
  {
   "cell_type": "code",
   "execution_count": 122,
   "id": "ad0215c4-3994-4cbe-86b4-8218c8ade873",
   "metadata": {},
   "outputs": [
    {
     "data": {
      "text/plain": [
       "{'max_lr': 0.0004,\n",
       " 'total_steps': 100100,\n",
       " 'pct_start': 0.05,\n",
       " 'cycle_momentum': False,\n",
       " 'anneal_strategy': 'linear'}"
      ]
     },
     "execution_count": 122,
     "metadata": {},
     "output_type": "execute_result"
    }
   ],
   "source": [
    "sched_params = train_cfg.SCHEDULER.PARAMS.to_dict()\n",
    "sched_params"
   ]
  },
  {
   "cell_type": "code",
   "execution_count": 110,
   "id": "71ecabfb-a01e-4c70-a372-d97e36556404",
   "metadata": {},
   "outputs": [],
   "source": [
    "_optim = opt(raft_model.parameters(), lr=train_cfg.OPTIMIZER.LR,**train_cfg.OPTIMIZER.PARAMS.to_dict())"
   ]
  },
  {
   "cell_type": "code",
   "execution_count": 111,
   "id": "f386483d-4807-4df3-a436-bece13f96a32",
   "metadata": {},
   "outputs": [
    {
     "data": {
      "text/plain": [
       "{'state': {},\n",
       " 'param_groups': [{'lr': 0.0004,\n",
       "   'betas': [0.9, 0.999],\n",
       "   'eps': 1e-08,\n",
       "   'weight_decay': 0.0001,\n",
       "   'amsgrad': False,\n",
       "   'params': [0,\n",
       "    1,\n",
       "    2,\n",
       "    3,\n",
       "    4,\n",
       "    5,\n",
       "    6,\n",
       "    7,\n",
       "    8,\n",
       "    9,\n",
       "    10,\n",
       "    11,\n",
       "    12,\n",
       "    13,\n",
       "    14,\n",
       "    15,\n",
       "    16,\n",
       "    17,\n",
       "    18,\n",
       "    19,\n",
       "    20,\n",
       "    21,\n",
       "    22,\n",
       "    23,\n",
       "    24,\n",
       "    25,\n",
       "    26,\n",
       "    27,\n",
       "    28,\n",
       "    29,\n",
       "    30,\n",
       "    31,\n",
       "    32,\n",
       "    33,\n",
       "    34,\n",
       "    35,\n",
       "    36,\n",
       "    37,\n",
       "    38,\n",
       "    39,\n",
       "    40,\n",
       "    41,\n",
       "    42,\n",
       "    43,\n",
       "    44,\n",
       "    45,\n",
       "    46,\n",
       "    47,\n",
       "    48,\n",
       "    49,\n",
       "    50,\n",
       "    51,\n",
       "    52,\n",
       "    53,\n",
       "    54,\n",
       "    55,\n",
       "    56,\n",
       "    57,\n",
       "    58,\n",
       "    59,\n",
       "    60,\n",
       "    61,\n",
       "    62,\n",
       "    63,\n",
       "    64,\n",
       "    65,\n",
       "    66,\n",
       "    67,\n",
       "    68,\n",
       "    69,\n",
       "    70,\n",
       "    71,\n",
       "    72,\n",
       "    73,\n",
       "    74,\n",
       "    75,\n",
       "    76,\n",
       "    77,\n",
       "    78,\n",
       "    79,\n",
       "    80,\n",
       "    81,\n",
       "    82,\n",
       "    83,\n",
       "    84,\n",
       "    85,\n",
       "    86,\n",
       "    87,\n",
       "    88,\n",
       "    89,\n",
       "    90,\n",
       "    91,\n",
       "    92,\n",
       "    93,\n",
       "    94,\n",
       "    95,\n",
       "    96,\n",
       "    97,\n",
       "    98,\n",
       "    99,\n",
       "    100,\n",
       "    101,\n",
       "    102,\n",
       "    103,\n",
       "    104,\n",
       "    105,\n",
       "    106,\n",
       "    107,\n",
       "    108,\n",
       "    109,\n",
       "    110,\n",
       "    111,\n",
       "    112,\n",
       "    113,\n",
       "    114,\n",
       "    115,\n",
       "    116,\n",
       "    117,\n",
       "    118,\n",
       "    119,\n",
       "    120,\n",
       "    121,\n",
       "    122,\n",
       "    123]}]}"
      ]
     },
     "execution_count": 111,
     "metadata": {},
     "output_type": "execute_result"
    }
   ],
   "source": [
    "_optim.state_dict()"
   ]
  },
  {
   "cell_type": "code",
   "execution_count": 112,
   "id": "b07bc758-98dc-4fdd-8465-6299cf20386a",
   "metadata": {},
   "outputs": [
    {
     "ename": "FileNotFoundError",
     "evalue": "[Errno 2] No such file or directory: '../../results/raft/ckpts/exp200/raft_step30000.pth'",
     "output_type": "error",
     "traceback": [
      "\u001b[0;31m---------------------------------------------------------------------------\u001b[0m",
      "\u001b[0;31mFileNotFoundError\u001b[0m                         Traceback (most recent call last)",
      "\u001b[0;32m<ipython-input-112-dff0b5aba908>\u001b[0m in \u001b[0;36m<module>\u001b[0;34m\u001b[0m\n\u001b[0;32m----> 1\u001b[0;31m \u001b[0mstate_dict\u001b[0m \u001b[0;34m=\u001b[0m \u001b[0mtorch\u001b[0m\u001b[0;34m.\u001b[0m\u001b[0mload\u001b[0m\u001b[0;34m(\u001b[0m\u001b[0;34m\"../../results/raft/ckpts/exp200/raft_step30000.pth\"\u001b[0m\u001b[0;34m,\u001b[0m \u001b[0mmap_location\u001b[0m\u001b[0;34m=\u001b[0m\u001b[0mtorch\u001b[0m\u001b[0;34m.\u001b[0m\u001b[0mdevice\u001b[0m\u001b[0;34m(\u001b[0m\u001b[0;34m'cpu'\u001b[0m\u001b[0;34m)\u001b[0m\u001b[0;34m)\u001b[0m\u001b[0;34m\u001b[0m\u001b[0;34m\u001b[0m\u001b[0m\n\u001b[0m",
      "\u001b[0;32m~/miniconda3/envs/ezflow/lib/python3.7/site-packages/torch/serialization.py\u001b[0m in \u001b[0;36mload\u001b[0;34m(f, map_location, pickle_module, **pickle_load_args)\u001b[0m\n\u001b[1;32m    592\u001b[0m         \u001b[0mpickle_load_args\u001b[0m\u001b[0;34m[\u001b[0m\u001b[0;34m'encoding'\u001b[0m\u001b[0;34m]\u001b[0m \u001b[0;34m=\u001b[0m \u001b[0;34m'utf-8'\u001b[0m\u001b[0;34m\u001b[0m\u001b[0;34m\u001b[0m\u001b[0m\n\u001b[1;32m    593\u001b[0m \u001b[0;34m\u001b[0m\u001b[0m\n\u001b[0;32m--> 594\u001b[0;31m     \u001b[0;32mwith\u001b[0m \u001b[0m_open_file_like\u001b[0m\u001b[0;34m(\u001b[0m\u001b[0mf\u001b[0m\u001b[0;34m,\u001b[0m \u001b[0;34m'rb'\u001b[0m\u001b[0;34m)\u001b[0m \u001b[0;32mas\u001b[0m \u001b[0mopened_file\u001b[0m\u001b[0;34m:\u001b[0m\u001b[0;34m\u001b[0m\u001b[0;34m\u001b[0m\u001b[0m\n\u001b[0m\u001b[1;32m    595\u001b[0m         \u001b[0;32mif\u001b[0m \u001b[0m_is_zipfile\u001b[0m\u001b[0;34m(\u001b[0m\u001b[0mopened_file\u001b[0m\u001b[0;34m)\u001b[0m\u001b[0;34m:\u001b[0m\u001b[0;34m\u001b[0m\u001b[0;34m\u001b[0m\u001b[0m\n\u001b[1;32m    596\u001b[0m             \u001b[0;31m# The zipfile reader is going to advance the current file position.\u001b[0m\u001b[0;34m\u001b[0m\u001b[0;34m\u001b[0m\u001b[0;34m\u001b[0m\u001b[0m\n",
      "\u001b[0;32m~/miniconda3/envs/ezflow/lib/python3.7/site-packages/torch/serialization.py\u001b[0m in \u001b[0;36m_open_file_like\u001b[0;34m(name_or_buffer, mode)\u001b[0m\n\u001b[1;32m    228\u001b[0m \u001b[0;32mdef\u001b[0m \u001b[0m_open_file_like\u001b[0m\u001b[0;34m(\u001b[0m\u001b[0mname_or_buffer\u001b[0m\u001b[0;34m,\u001b[0m \u001b[0mmode\u001b[0m\u001b[0;34m)\u001b[0m\u001b[0;34m:\u001b[0m\u001b[0;34m\u001b[0m\u001b[0;34m\u001b[0m\u001b[0m\n\u001b[1;32m    229\u001b[0m     \u001b[0;32mif\u001b[0m \u001b[0m_is_path\u001b[0m\u001b[0;34m(\u001b[0m\u001b[0mname_or_buffer\u001b[0m\u001b[0;34m)\u001b[0m\u001b[0;34m:\u001b[0m\u001b[0;34m\u001b[0m\u001b[0;34m\u001b[0m\u001b[0m\n\u001b[0;32m--> 230\u001b[0;31m         \u001b[0;32mreturn\u001b[0m \u001b[0m_open_file\u001b[0m\u001b[0;34m(\u001b[0m\u001b[0mname_or_buffer\u001b[0m\u001b[0;34m,\u001b[0m \u001b[0mmode\u001b[0m\u001b[0;34m)\u001b[0m\u001b[0;34m\u001b[0m\u001b[0;34m\u001b[0m\u001b[0m\n\u001b[0m\u001b[1;32m    231\u001b[0m     \u001b[0;32melse\u001b[0m\u001b[0;34m:\u001b[0m\u001b[0;34m\u001b[0m\u001b[0;34m\u001b[0m\u001b[0m\n\u001b[1;32m    232\u001b[0m         \u001b[0;32mif\u001b[0m \u001b[0;34m'w'\u001b[0m \u001b[0;32min\u001b[0m \u001b[0mmode\u001b[0m\u001b[0;34m:\u001b[0m\u001b[0;34m\u001b[0m\u001b[0;34m\u001b[0m\u001b[0m\n",
      "\u001b[0;32m~/miniconda3/envs/ezflow/lib/python3.7/site-packages/torch/serialization.py\u001b[0m in \u001b[0;36m__init__\u001b[0;34m(self, name, mode)\u001b[0m\n\u001b[1;32m    209\u001b[0m \u001b[0;32mclass\u001b[0m \u001b[0m_open_file\u001b[0m\u001b[0;34m(\u001b[0m\u001b[0m_opener\u001b[0m\u001b[0;34m)\u001b[0m\u001b[0;34m:\u001b[0m\u001b[0;34m\u001b[0m\u001b[0;34m\u001b[0m\u001b[0m\n\u001b[1;32m    210\u001b[0m     \u001b[0;32mdef\u001b[0m \u001b[0m__init__\u001b[0m\u001b[0;34m(\u001b[0m\u001b[0mself\u001b[0m\u001b[0;34m,\u001b[0m \u001b[0mname\u001b[0m\u001b[0;34m,\u001b[0m \u001b[0mmode\u001b[0m\u001b[0;34m)\u001b[0m\u001b[0;34m:\u001b[0m\u001b[0;34m\u001b[0m\u001b[0;34m\u001b[0m\u001b[0m\n\u001b[0;32m--> 211\u001b[0;31m         \u001b[0msuper\u001b[0m\u001b[0;34m(\u001b[0m\u001b[0m_open_file\u001b[0m\u001b[0;34m,\u001b[0m \u001b[0mself\u001b[0m\u001b[0;34m)\u001b[0m\u001b[0;34m.\u001b[0m\u001b[0m__init__\u001b[0m\u001b[0;34m(\u001b[0m\u001b[0mopen\u001b[0m\u001b[0;34m(\u001b[0m\u001b[0mname\u001b[0m\u001b[0;34m,\u001b[0m \u001b[0mmode\u001b[0m\u001b[0;34m)\u001b[0m\u001b[0;34m)\u001b[0m\u001b[0;34m\u001b[0m\u001b[0;34m\u001b[0m\u001b[0m\n\u001b[0m\u001b[1;32m    212\u001b[0m \u001b[0;34m\u001b[0m\u001b[0m\n\u001b[1;32m    213\u001b[0m     \u001b[0;32mdef\u001b[0m \u001b[0m__exit__\u001b[0m\u001b[0;34m(\u001b[0m\u001b[0mself\u001b[0m\u001b[0;34m,\u001b[0m \u001b[0;34m*\u001b[0m\u001b[0margs\u001b[0m\u001b[0;34m)\u001b[0m\u001b[0;34m:\u001b[0m\u001b[0;34m\u001b[0m\u001b[0;34m\u001b[0m\u001b[0m\n",
      "\u001b[0;31mFileNotFoundError\u001b[0m: [Errno 2] No such file or directory: '../../results/raft/ckpts/exp200/raft_step30000.pth'"
     ]
    }
   ],
   "source": [
    "state_dict = torch.load(\"../../results/raft/ckpts/exp200/raft_step30000.pth\", map_location=torch.device('cpu'))"
   ]
  },
  {
   "cell_type": "code",
   "execution_count": 113,
   "id": "14b5d275-a5d6-4a95-a3eb-cc0eb3535748",
   "metadata": {},
   "outputs": [
    {
     "data": {
      "text/plain": [
       "(dict_keys(['model_state_dict', 'optimizer_state_dict', 'step', 'scheduler_state_dict']),\n",
       " 30000)"
      ]
     },
     "execution_count": 113,
     "metadata": {},
     "output_type": "execute_result"
    }
   ],
   "source": [
    "state_dict.keys(), state_dict['step']"
   ]
  },
  {
   "cell_type": "code",
   "execution_count": 114,
   "id": "d6b7480b-1393-4abc-8801-b171130ac6d7",
   "metadata": {},
   "outputs": [],
   "source": [
    "opt_state_dict = state_dict['optimizer_state_dict']\n",
    "sch_state_dict = state_dict['scheduler_state_dict']"
   ]
  },
  {
   "cell_type": "code",
   "execution_count": 116,
   "id": "ec35fa35-b4d9-4bde-8849-9a073050181c",
   "metadata": {},
   "outputs": [],
   "source": [
    "_optim.load_state_dict(opt_state_dict)"
   ]
  },
  {
   "cell_type": "code",
   "execution_count": 123,
   "id": "426e95dc-2275-4cfa-a160-7183617a28f7",
   "metadata": {},
   "outputs": [],
   "source": [
    "_sched = sched(_optim, **sched_params)"
   ]
  },
  {
   "cell_type": "code",
   "execution_count": 124,
   "id": "ff30aca0-0da6-41df-8bc7-6b9fa952b76d",
   "metadata": {},
   "outputs": [
    {
     "data": {
      "text/plain": [
       "{'total_steps': 100100,\n",
       " '_schedule_phases': [{'end_step': 5004.0,\n",
       "   'start_lr': 'initial_lr',\n",
       "   'end_lr': 'max_lr',\n",
       "   'start_momentum': 'max_momentum',\n",
       "   'end_momentum': 'base_momentum'},\n",
       "  {'end_step': 100099,\n",
       "   'start_lr': 'max_lr',\n",
       "   'end_lr': 'min_lr',\n",
       "   'start_momentum': 'base_momentum',\n",
       "   'end_momentum': 'max_momentum'}],\n",
       " 'anneal_func': <bound method OneCycleLR._annealing_linear of <torch.optim.lr_scheduler.OneCycleLR object at 0x2ad4cee0eb50>>,\n",
       " 'cycle_momentum': False,\n",
       " 'base_lrs': [1.6e-05],\n",
       " 'last_epoch': 0,\n",
       " '_step_count': 1,\n",
       " 'verbose': False,\n",
       " '_get_lr_called_within_step': False,\n",
       " '_last_lr': [1.6e-05]}"
      ]
     },
     "execution_count": 124,
     "metadata": {},
     "output_type": "execute_result"
    }
   ],
   "source": [
    "_sched.state_dict()"
   ]
  },
  {
   "cell_type": "code",
   "execution_count": 119,
   "id": "461f07c1-8371-4c51-8668-c44ec5d48e43",
   "metadata": {},
   "outputs": [
    {
     "data": {
      "text/plain": [
       "{'total_steps': 100100,\n",
       " '_schedule_phases': [{'end_step': 5004.0,\n",
       "   'start_lr': 'initial_lr',\n",
       "   'end_lr': 'max_lr',\n",
       "   'start_momentum': 'max_momentum',\n",
       "   'end_momentum': 'base_momentum'},\n",
       "  {'end_step': 100099,\n",
       "   'start_lr': 'max_lr',\n",
       "   'end_lr': 'min_lr',\n",
       "   'start_momentum': 'base_momentum',\n",
       "   'end_momentum': 'max_momentum'}],\n",
       " 'anneal_func': <bound method OneCycleLR._annealing_linear of <torch.optim.lr_scheduler.OneCycleLR object at 0x2ad4cede8b90>>,\n",
       " 'cycle_momentum': False,\n",
       " 'base_lrs': [1.6e-05],\n",
       " 'last_epoch': 30000,\n",
       " '_step_count': 30001,\n",
       " 'verbose': False,\n",
       " '_get_lr_called_within_step': False,\n",
       " '_last_lr': [0.00029485924594983967]}"
      ]
     },
     "execution_count": 119,
     "metadata": {},
     "output_type": "execute_result"
    }
   ],
   "source": [
    "sch_state_dict"
   ]
  },
  {
   "cell_type": "code",
   "execution_count": 125,
   "id": "e1341818-620f-4e81-9805-c6e79e116b01",
   "metadata": {},
   "outputs": [],
   "source": [
    "_sched.load_state_dict(sch_state_dict)"
   ]
  },
  {
   "cell_type": "code",
   "execution_count": 126,
   "id": "2cac9ecc-4b8b-451f-858e-f6e4694cee82",
   "metadata": {},
   "outputs": [
    {
     "data": {
      "text/plain": [
       "{'total_steps': 100100,\n",
       " '_schedule_phases': [{'end_step': 5004.0,\n",
       "   'start_lr': 'initial_lr',\n",
       "   'end_lr': 'max_lr',\n",
       "   'start_momentum': 'max_momentum',\n",
       "   'end_momentum': 'base_momentum'},\n",
       "  {'end_step': 100099,\n",
       "   'start_lr': 'max_lr',\n",
       "   'end_lr': 'min_lr',\n",
       "   'start_momentum': 'base_momentum',\n",
       "   'end_momentum': 'max_momentum'}],\n",
       " 'anneal_func': <bound method OneCycleLR._annealing_linear of <torch.optim.lr_scheduler.OneCycleLR object at 0x2ad4cede8b90>>,\n",
       " 'cycle_momentum': False,\n",
       " 'base_lrs': [1.6e-05],\n",
       " 'last_epoch': 30000,\n",
       " '_step_count': 30001,\n",
       " 'verbose': False,\n",
       " '_get_lr_called_within_step': False,\n",
       " '_last_lr': [0.00029485924594983967]}"
      ]
     },
     "execution_count": 126,
     "metadata": {},
     "output_type": "execute_result"
    }
   ],
   "source": [
    "_sched.state_dict()"
   ]
  },
  {
   "cell_type": "code",
   "execution_count": null,
   "id": "e665fba1-3f04-4939-826b-8552c41a28e8",
   "metadata": {},
   "outputs": [],
   "source": []
  }
 ],
 "metadata": {
  "kernelspec": {
   "display_name": "Python 3",
   "language": "python",
   "name": "python3"
  },
  "language_info": {
   "codemirror_mode": {
    "name": "ipython",
    "version": 3
   },
   "file_extension": ".py",
   "mimetype": "text/x-python",
   "name": "python",
   "nbconvert_exporter": "python",
   "pygments_lexer": "ipython3",
   "version": "3.7.10"
  }
 },
 "nbformat": 4,
 "nbformat_minor": 5
}
