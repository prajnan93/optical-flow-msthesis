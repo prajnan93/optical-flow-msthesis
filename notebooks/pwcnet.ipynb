{
 "cells": [
  {
   "cell_type": "code",
   "execution_count": 1,
   "id": "955442fb-a702-4dc6-a38e-f48572718a20",
   "metadata": {},
   "outputs": [],
   "source": [
    "import torch\n",
    "import torch.nn as nn\n",
    "import numpy as np"
   ]
  },
  {
   "cell_type": "code",
   "execution_count": 2,
   "id": "2570611c-1ca4-4527-9f52-49dc82524479",
   "metadata": {},
   "outputs": [
    {
     "data": {
      "text/plain": [
       "device(type='cuda')"
      ]
     },
     "execution_count": 2,
     "metadata": {},
     "output_type": "execute_result"
    }
   ],
   "source": [
    "device = torch.device('cuda') if torch.cuda.is_available() else torch.device('cpu')\n",
    "device"
   ]
  },
  {
   "cell_type": "code",
   "execution_count": 3,
   "id": "0017cee5-fbe4-415b-9e70-5fce7a0ffb08",
   "metadata": {},
   "outputs": [
    {
     "data": {
      "text/plain": [
       "device(type='cpu')"
      ]
     },
     "execution_count": 3,
     "metadata": {},
     "output_type": "execute_result"
    }
   ],
   "source": [
    "img1, img2 = torch.randn(1, 3, 256, 256), torch.randn(1, 3, 256, 256)\n",
    "\n",
    "# img1 = img1.to(device)\n",
    "# img2 = img2.to(device)\n",
    "\n",
    "img1.device"
   ]
  },
  {
   "cell_type": "code",
   "execution_count": 4,
   "id": "d5901baa",
   "metadata": {},
   "outputs": [],
   "source": [
    "def count_params(model):\n",
    "    return sum(p.numel() for p in model.parameters() if p.requires_grad)"
   ]
  },
  {
   "cell_type": "markdown",
   "id": "0ef9c07c-fc55-4f17-9eda-e55181ba43d7",
   "metadata": {
    "tags": []
   },
   "source": [
    "___\n",
    "\n",
    "## EzFlow PWCNet"
   ]
  },
  {
   "cell_type": "code",
   "execution_count": 5,
   "id": "50b6e53f-1042-4fa5-b3ea-8267655032dd",
   "metadata": {},
   "outputs": [],
   "source": [
    "from ezflow.models import build_model"
   ]
  },
  {
   "cell_type": "code",
   "execution_count": 7,
   "id": "04afdb91-70a4-4d05-b641-069df5382faa",
   "metadata": {},
   "outputs": [
    {
     "name": "stderr",
     "output_type": "stream",
     "text": [
      "C:\\Users\\prajn\\miniconda3\\envs\\ezflow\\lib\\site-packages\\torch\\nn\\modules\\conv.py:132: UserWarning: __floordiv__ is deprecated, and its behavior will change in a future version of pytorch. It currently rounds toward 0 (like the 'trunc' function NOT 'floor'). This results in incorrect rounding for negative values. To keep the current behavior, use torch.div(a, b, rounding_mode='trunc'), or for actual floor division, use torch.div(a, b, rounding_mode='floor').\n",
      "  (out_channels, in_channels // groups, *kernel_size), **factory_kwargs))\n"
     ]
    }
   ],
   "source": [
    "ezflow_model = build_model('PWCNet', cfg_path='../configs/pwcnet/models/pwcnet.yaml', custom_cfg=True)"
   ]
  },
  {
   "cell_type": "code",
   "execution_count": 8,
   "id": "6ff7669a",
   "metadata": {},
   "outputs": [
    {
     "data": {
      "text/plain": [
       "9374274"
      ]
     },
     "execution_count": 8,
     "metadata": {},
     "output_type": "execute_result"
    }
   ],
   "source": [
    "count_params(ezflow_model)"
   ]
  },
  {
   "cell_type": "code",
   "execution_count": 20,
   "id": "8cb4cf8d-b233-4905-93c1-54ee41b03038",
   "metadata": {},
   "outputs": [],
   "source": [
    "output = ezflow_model(img1, img2)"
   ]
  },
  {
   "cell_type": "code",
   "execution_count": 21,
   "id": "f7157577-5b94-41f9-aa8b-d9f4914755ba",
   "metadata": {},
   "outputs": [
    {
     "name": "stdout",
     "output_type": "stream",
     "text": [
      "torch.Size([1, 2, 4, 4])\n",
      "torch.Size([1, 2, 8, 8])\n",
      "torch.Size([1, 2, 16, 16])\n",
      "torch.Size([1, 2, 32, 32])\n",
      "torch.Size([1, 2, 64, 64])\n"
     ]
    }
   ],
   "source": [
    "for flow in output[\"flow_preds\"]:\n",
    "    print(flow.shape)"
   ]
  },
  {
   "cell_type": "code",
   "execution_count": 22,
   "id": "e23172bd-9795-4172-bfec-c8e05ca15db9",
   "metadata": {},
   "outputs": [
    {
     "data": {
      "text/plain": [
       "torch.Size([1, 2, 256, 256])"
      ]
     },
     "execution_count": 22,
     "metadata": {},
     "output_type": "execute_result"
    }
   ],
   "source": [
    "ezflow_model.eval()\n",
    "\n",
    "output = ezflow_model(img1, img2)\n",
    "output[\"flow_upsampled\"].shape"
   ]
  },
  {
   "cell_type": "markdown",
   "id": "a2b7a032",
   "metadata": {},
   "source": [
    "___\n",
    "\n",
    "#### Loss computation"
   ]
  },
  {
   "cell_type": "code",
   "execution_count": 23,
   "id": "4c9e6d2c",
   "metadata": {},
   "outputs": [],
   "source": [
    "target = torch.ones(1,2,256,256)"
   ]
  },
  {
   "cell_type": "code",
   "execution_count": 24,
   "id": "57bcde7d",
   "metadata": {},
   "outputs": [],
   "source": [
    "from ezflow.functional import FUNCTIONAL_REGISTRY"
   ]
  },
  {
   "cell_type": "code",
   "execution_count": 25,
   "id": "7c437ad9",
   "metadata": {},
   "outputs": [
    {
     "data": {
      "text/plain": [
       "ezflow.functional.criterion.multiscale.MultiScaleLoss"
      ]
     },
     "execution_count": 25,
     "metadata": {},
     "output_type": "execute_result"
    }
   ],
   "source": [
    "loss = FUNCTIONAL_REGISTRY.get('MultiScaleLoss')\n",
    "loss"
   ]
  },
  {
   "cell_type": "code",
   "execution_count": 26,
   "id": "fce80306",
   "metadata": {},
   "outputs": [],
   "source": [
    "loss_params = {\n",
    "    \"norm\":\"l2\",\n",
    "    \"weights\":[0.32, 0.08, 0.02, 0.01, 0.005],\n",
    "    \"average\": \"sum\",\n",
    "    \"resize_flow\": \"downsample\"\n",
    "}"
   ]
  },
  {
   "cell_type": "code",
   "execution_count": 27,
   "id": "38985708",
   "metadata": {},
   "outputs": [
    {
     "data": {
      "text/plain": [
       "'sum'"
      ]
     },
     "execution_count": 27,
     "metadata": {},
     "output_type": "execute_result"
    }
   ],
   "source": [
    "loss_fn_2 = loss(**loss_params)\n",
    "loss_fn_2.average"
   ]
  },
  {
   "cell_type": "code",
   "execution_count": 29,
   "id": "0ee540b3",
   "metadata": {},
   "outputs": [
    {
     "data": {
      "text/plain": [
       "tensor(0.6452, grad_fn=<DivBackward0>)"
      ]
     },
     "execution_count": 29,
     "metadata": {},
     "output_type": "execute_result"
    }
   ],
   "source": [
    "loss_fn_2(output[\"flow_preds\"], target/20.0)"
   ]
  },
  {
   "cell_type": "code",
   "execution_count": null,
   "id": "f80e2237",
   "metadata": {},
   "outputs": [],
   "source": []
  }
 ],
 "metadata": {
  "kernelspec": {
   "display_name": "Python 3",
   "language": "python",
   "name": "python3"
  },
  "language_info": {
   "codemirror_mode": {
    "name": "ipython",
    "version": 3
   },
   "file_extension": ".py",
   "mimetype": "text/x-python",
   "name": "python",
   "nbconvert_exporter": "python",
   "pygments_lexer": "ipython3",
   "version": "3.7.10"
  }
 },
 "nbformat": 4,
 "nbformat_minor": 5
}
