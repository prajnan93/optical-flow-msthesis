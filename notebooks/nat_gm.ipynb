{
 "cells": [
  {
   "cell_type": "code",
   "execution_count": 1,
   "id": "195fbe88-1a8b-45cd-b55c-592c090f7a0b",
   "metadata": {},
   "outputs": [],
   "source": [
    "import math\n",
    "import time\n",
    "import torch\n",
    "import torch.nn as nn\n",
    "import torch.nn.functional as F"
   ]
  },
  {
   "cell_type": "code",
   "execution_count": 2,
   "id": "acded564-08e9-4e1d-bbb4-b8400338b861",
   "metadata": {},
   "outputs": [],
   "source": [
    "from nnflow import GMFlowV2\n",
    "from nnflow.models.gmflow import NAT\n",
    "from ezflow.models import build_model"
   ]
  },
  {
   "cell_type": "code",
   "execution_count": 3,
   "id": "309a429a-260e-46b6-a1c3-ed1bc858950e",
   "metadata": {},
   "outputs": [],
   "source": [
    "def count_params(model):\n",
    "    return str(sum(p.numel() for p in model.parameters() if p.requires_grad) / 1000000) + \"M params\""
   ]
  },
  {
   "cell_type": "markdown",
   "id": "b11fa8a4-ccc9-479f-a3f6-fd1eaa46a8c6",
   "metadata": {},
   "source": [
    "___"
   ]
  },
  {
   "cell_type": "code",
   "execution_count": 4,
   "id": "e34e47a2-01c4-4190-875d-4e5810674f8f",
   "metadata": {},
   "outputs": [],
   "source": [
    "# encoder = NAT(\n",
    "#     depths=[3, 4, 6, 5],\n",
    "#     num_heads=[2, 4, 8, 16],\n",
    "#     embed_dim=16,\n",
    "#     mlp_ratio=3,\n",
    "#     drop_path_rate=0.2,\n",
    "#     kernel_size=7,\n",
    "#     dilations=None\n",
    "# )\n",
    "\n",
    "encoder = NAT(\n",
    "    depths=[3, 4],\n",
    "    num_heads=[2, 4],\n",
    "    embed_dim=64,\n",
    "    mlp_ratio=3,\n",
    "    drop_path_rate=0.2,\n",
    "    kernel_size=7,\n",
    "    dilations=None\n",
    ")"
   ]
  },
  {
   "cell_type": "code",
   "execution_count": 5,
   "id": "0713577b-28a9-4e04-8d3b-5703acddc975",
   "metadata": {},
   "outputs": [
    {
     "data": {
      "text/plain": [
       "'0.884166M params'"
      ]
     },
     "execution_count": 5,
     "metadata": {},
     "output_type": "execute_result"
    }
   ],
   "source": [
    "count_params(encoder)"
   ]
  },
  {
   "cell_type": "code",
   "execution_count": 6,
   "id": "6f87b055-950f-4129-a2f7-c0b7f4e5d669",
   "metadata": {},
   "outputs": [],
   "source": [
    "x = torch.randn(2,3,368,496)"
   ]
  },
  {
   "cell_type": "code",
   "execution_count": 7,
   "id": "dd64e257-c007-49eb-bb96-90c8639b442f",
   "metadata": {},
   "outputs": [],
   "source": [
    "out = encoder(x)"
   ]
  },
  {
   "cell_type": "code",
   "execution_count": 8,
   "id": "058e3896-21fb-47f3-bba0-84b40d81fed5",
   "metadata": {},
   "outputs": [
    {
     "data": {
      "text/plain": [
       "torch.Size([2, 128, 46, 62])"
      ]
     },
     "execution_count": 8,
     "metadata": {},
     "output_type": "execute_result"
    }
   ],
   "source": [
    "out.shape"
   ]
  },
  {
   "cell_type": "code",
   "execution_count": 9,
   "id": "2cf1c56e-e664-4317-8a03-dd21706b3fd4",
   "metadata": {},
   "outputs": [
    {
     "data": {
      "text/plain": [
       "128"
      ]
     },
     "execution_count": 9,
     "metadata": {},
     "output_type": "execute_result"
    }
   ],
   "source": [
    "embed_dim = 64\n",
    "num_levels = 2\n",
    "int(embed_dim * 2 ** (num_levels - 1))"
   ]
  },
  {
   "cell_type": "markdown",
   "id": "60759a97-f3ae-4943-bbc3-70f73f9b66f6",
   "metadata": {},
   "source": [
    "___"
   ]
  },
  {
   "cell_type": "code",
   "execution_count": 10,
   "id": "e55ba5a6-9926-4059-b9b4-c06a62e5db6e",
   "metadata": {},
   "outputs": [
    {
     "data": {
      "text/plain": [
       "'NAT'"
      ]
     },
     "execution_count": 10,
     "metadata": {},
     "output_type": "execute_result"
    }
   ],
   "source": [
    "model = build_model('GMFlowV2', cfg_path='../configs/gmflow/models/gmflow_v13.yaml', custom_cfg=True)\n",
    "model.cfg.ENCODER.NAME"
   ]
  },
  {
   "cell_type": "code",
   "execution_count": 11,
   "id": "94e143ed-ac0d-4099-9f1d-726b52ec013d",
   "metadata": {},
   "outputs": [
    {
     "data": {
      "text/plain": [
       "'4.515334M params'"
      ]
     },
     "execution_count": 11,
     "metadata": {},
     "output_type": "execute_result"
    }
   ],
   "source": [
    "count_params(model)"
   ]
  },
  {
   "cell_type": "code",
   "execution_count": 16,
   "id": "7efc11f9-44d9-4be1-8c95-454f7eb6ad45",
   "metadata": {},
   "outputs": [],
   "source": [
    "dil"
   ]
  },
  {
   "cell_type": "code",
   "execution_count": 17,
   "id": "b3d02c19-c8f8-4978-adad-8ec346184f6a",
   "metadata": {},
   "outputs": [
    {
     "data": {
      "text/plain": [
       "NoneType"
      ]
     },
     "execution_count": 17,
     "metadata": {},
     "output_type": "execute_result"
    }
   ],
   "source": [
    "type(dil)"
   ]
  },
  {
   "cell_type": "code",
   "execution_count": 13,
   "id": "47e6972a-7af4-47a6-a055-335e3c8362b3",
   "metadata": {},
   "outputs": [
    {
     "name": "stdout",
     "output_type": "stream",
     "text": [
      "1.6326704025268555\n",
      "torch.Size([1, 2, 368, 496])\n",
      "torch.Size([1, 2, 368, 496])\n"
     ]
    }
   ],
   "source": [
    "img1, img2 = torch.randn(1,3,368,496), torch.randn(1,3,368,496)\n",
    "\n",
    "# img1 = img1.to(device)\n",
    "# img2 = img2.to(device)\n",
    "# model.to(device)\n",
    "\n",
    "start = time.time()\n",
    "output = model(img1, img2)\n",
    "print(time.time()-start)\n",
    "\n",
    "for flow in output['flow_preds']:\n",
    "    print(flow.shape)"
   ]
  },
  {
   "cell_type": "code",
   "execution_count": null,
   "id": "a26ee3b0-a4fb-426a-90bd-6f7fec3c7473",
   "metadata": {},
   "outputs": [],
   "source": []
  }
 ],
 "metadata": {
  "kernelspec": {
   "display_name": "Python 3",
   "language": "python",
   "name": "python3"
  },
  "language_info": {
   "codemirror_mode": {
    "name": "ipython",
    "version": 3
   },
   "file_extension": ".py",
   "mimetype": "text/x-python",
   "name": "python",
   "nbconvert_exporter": "python",
   "pygments_lexer": "ipython3",
   "version": "3.7.10"
  }
 },
 "nbformat": 4,
 "nbformat_minor": 5
}
